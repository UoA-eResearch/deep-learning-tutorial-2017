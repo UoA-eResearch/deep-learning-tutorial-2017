{
 "cells": [
  {
   "cell_type": "markdown",
   "metadata": {},
   "source": [
    "## Boston House Prices\n",
    "In this tutorial we will create a neural network that predicts the median house prices of U.S. census tracts in Boston.\n",
    "\n",
    "This type of supervised learning is called regression, because our desired output consists of one or more continuous variables."
   ]
  },
  {
   "cell_type": "markdown",
   "metadata": {},
   "source": [
    "### Import dependencies\n",
    "Start by importing the dependencies we will need for the project"
   ]
  },
  {
   "cell_type": "code",
   "execution_count": null,
   "metadata": {},
   "outputs": [],
   "source": [
    "import numpy as np\n",
    "from sklearn.model_selection import train_test_split\n",
    "from keras.models import Sequential\n",
    "from keras.layers import Dense\n",
    "from uoa_mlaas import use_cpu\n",
    "use_cpu()"
   ]
  },
  {
   "cell_type": "markdown",
   "metadata": {},
   "source": [
    "### Set seed\n",
    "Set a seed value so that when we repeatedly run our code we will get the same result. Using the same seed is important when you want to compare algorithms."
   ]
  },
  {
   "cell_type": "code",
   "execution_count": null,
   "metadata": {
    "collapsed": true
   },
   "outputs": [],
   "source": [
    "seed = 7\n",
    "np.random.seed(seed)"
   ]
  },
  {
   "cell_type": "markdown",
   "metadata": {},
   "source": [
    "### Import data\n",
    "The Boston House Price's dataset contains 14 features, including the median value of owner-occupied houses, in 506 U.S. census tracts from Boston. Each sample corresponds to a different census tract. The features in the dataset are described below.\n",
    "\n",
    "* CRIM: per capita crime rate by town\n",
    "* ZN: proportion of residential land zoned for lots over 25,000 sq.ft.\n",
    "* INDUS: proportion of non-retail business acres per town.\n",
    "* CHAS: Charles River dummy variable (1 if tract bounds river; 0 otherwise)\n",
    "* NOX: nitric oxides concentration (parts per 10 million)\n",
    "* RM: average number of rooms per dwelling\n",
    "* AGE: proportion of owner-occupied units built prior to 1940\n",
    "* DIS: weighted distances to five Boston employment centres\n",
    "* RAD: index of accessibility to radial highways\n",
    "* TAX: full-value property-tax rate per \\$10,000\n",
    "* PTRATIO: pupil-teacher ratio by town\n",
    "* B: 1000(Bk - 0.63)^2 where Bk is the proportion of blacks by town\n",
    "* LSTAT: % lower status of the population\n",
    "* MEDV: Median value of owner-occupied homes in \\$1000's\n",
    "\n",
    "A snapshot of the dataset is illustrated below.\n",
    "\n",
    "|CRIM|ZN|INDUS|CHAS|NOX|RM|AGE|DIS|RAD|TAX|PTRATIO|B|LSTAT|MEDV|\n",
    "|-------|--|----|-|-----|-----|----|----|-|---|----|-----|----|--|\n",
    "|0.00632|18|2.31|0|0.538|6.575|65.2|4.09|1|296|15.3|396.9|4.98|24|\n",
    "|0.02731|0|7.07|0|0.469|6.421|78.9|4.9671|2|242|17.8|396.9|9.14|21.6|\n",
    "|0.02729|0|7.07|0|0.469|7.185|61.1|4.9671|2|242|17.8|392.83|4.03|34.7|\n",
    "|0.03237|0|2.18|0|0.458|6.998|45.8|6.0622|3|222|18.7|394.63|2.94|33.4|\n",
    "\n",
    "\n",
    "To load this data into memory, use the `np.loadtxt` function."
   ]
  },
  {
   "cell_type": "code",
   "execution_count": null,
   "metadata": {
    "collapsed": true
   },
   "outputs": [],
   "source": [
    "data = np.loadtxt('data/housing.csv', delimiter=',')"
   ]
  },
  {
   "cell_type": "markdown",
   "metadata": {},
   "source": [
    "Separate the data into input (X) and output (y) variables."
   ]
  },
  {
   "cell_type": "code",
   "execution_count": null,
   "metadata": {
    "collapsed": true
   },
   "outputs": [],
   "source": [
    "X = data[:, 0:13]\n",
    "y = data[:, 13]"
   ]
  },
  {
   "cell_type": "markdown",
   "metadata": {},
   "source": [
    "Use the `train_test_split` function from scikit-learn to split the input and target data into training and test datasets. A `test_size` of 0.33 is used and the `random_state` is set to our seed so that we get the same results."
   ]
  },
  {
   "cell_type": "code",
   "execution_count": null,
   "metadata": {
    "collapsed": true
   },
   "outputs": [],
   "source": [
    "X_train, X_test, y_train, y_test = train_test_split(X, y, test_size=0.33, random_state=seed)"
   ]
  },
  {
   "cell_type": "markdown",
   "metadata": {},
   "source": [
    "### Create the model\n",
    "The code snippet below creates a very basic neural network model, with three layers: an input layer, a hidden layer and an output layer.\n",
    "\n",
    "We start by instantiating a `Sequential` model, onto which we add a number of layers.\n",
    "\n",
    "The first layer is a fully connected neural network layer, defined by the `Dense` class. The first `Dense` layer added to a `Sequential` model actually acts as two layers: the input layer and the first hidden layer.\n",
    "\n",
    "The first argument in the `Dense` class is the number of neurons in the layer. In the first layer we set this value to 13, which becomes 13 neurons in the hidden layer. Our input data set has 13 features, so we set the `input_dim` variable to 13, which creates 13 input neurons, one for each feature.\n",
    "\n",
    "The last layer is specified by adding a `Dense` layer with 1 neuron. The number of neurons in the output layer always equals the number of outputs you are predicting. In this case we are estimating one output, the median house price, so we set it to 1.\n",
    "\n"
   ]
  },
  {
   "cell_type": "code",
   "execution_count": null,
   "metadata": {
    "collapsed": true
   },
   "outputs": [],
   "source": [
    "model = Sequential()\n",
    "model.add(Dense(13, input_dim=13, activation='relu', kernel_initializer='normal'))\n",
    "model.add(Dense(1, kernel_initializer='normal'))"
   ]
  },
  {
   "cell_type": "markdown",
   "metadata": {},
   "source": [
    "### Compile the model\n",
    "The next step is to compile the model, by calling the `compile` function. \n",
    "\n",
    "The compilation process uses TensorFlow to create a network that can be trained and used to make predictions. Training involves finding weights that can make accurate predictions based on the input data. \n",
    "\n",
    "A loss function is used to evaluate the weights. This is specified through the `loss` parameter. In this example we use the `mean_squared_error` loss function, because we are using regression.\n",
    "\n",
    "The last parameter is the `optimizer`"
   ]
  },
  {
   "cell_type": "code",
   "execution_count": null,
   "metadata": {},
   "outputs": [],
   "source": [
    "model.compile(loss='mean_squared_error', optimizer='adam')"
   ]
  },
  {
   "cell_type": "markdown",
   "metadata": {},
   "source": [
    "### Fit the model\n",
    "Now that we have compiled the model, we can train it with the data we prepared earlier.\n",
    "\n",
    "The data to train with is specified with the first two parameters: `X_train` (input) and `y_train` (target).\n",
    "\n",
    "The data the fit function will validate the training data with is specified with the validation_data parameter.\n",
    "\n",
    "The number of iterations that we will train the model for is specified with the `epochs` parameter.\n",
    "\n",
    "The `batch_size` specifies the number of training samples that are evaluated before the weights are updated in the network."
   ]
  },
  {
   "cell_type": "code",
   "execution_count": null,
   "metadata": {},
   "outputs": [],
   "source": [
    "model.fit(X_train, y_train, validation_data=(X_test, y_test), epochs=100, batch_size=5)"
   ]
  },
  {
   "cell_type": "markdown",
   "metadata": {
    "collapsed": true
   },
   "source": [
    "### Evaluate the model\n",
    "Now that we have trained our model, we can evaluate the performance on the test data prepared earlier. This is done with the `evaluate` function, simply supply the input and target parameters to the function."
   ]
  },
  {
   "cell_type": "code",
   "execution_count": null,
   "metadata": {},
   "outputs": [],
   "source": [
    "scores = model.evaluate(X_test, y_test)\n",
    "print(\"\\n\\nMean squared error: {0:.2f}\".format(scores))"
   ]
  },
  {
   "cell_type": "code",
   "execution_count": null,
   "metadata": {
    "collapsed": true
   },
   "outputs": [],
   "source": [
    ""
   ]
  }
 ],
 "metadata": {
  "kernelspec": {
   "display_name": "Python 3",
   "language": "python",
   "name": "python3"
  },
  "language_info": {
   "codemirror_mode": {
    "name": "ipython",
    "version": 3.0
   },
   "file_extension": ".py",
   "mimetype": "text/x-python",
   "name": "python",
   "nbconvert_exporter": "python",
   "pygments_lexer": "ipython3",
   "version": "3.5.2"
  }
 },
 "nbformat": 4,
 "nbformat_minor": 0
}