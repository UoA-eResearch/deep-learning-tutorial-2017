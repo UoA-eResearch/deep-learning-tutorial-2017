{
 "cells": [
  {
   "cell_type": "markdown",
   "metadata": {},
   "source": [
    "## Exercise 3: Balance Scales\n",
    "This balance scales data set models a balance scale:\n",
    "\n",
    "![Balance scales](http://archive.ics.uci.edu/ml/assets/MLimages/Large12.jpg)\n",
    "\n",
    "Each example is classified as having the balance scale tip to the right, tip to the left, or be balanced. The features are the left weight, the left distance, the right weight, and the right distance. Details are given below.\n",
    "\n",
    "* Class Name: L, B, R\n",
    "* Left weight: 1-5\n",
    "* Left distance: 1-5\n",
    "* Right weight: 1-5\n",
    "* Right distance: 1-5\n",
    "\n",
    "You can find the data set in `data/scales.csv`. The data set origninates from the [UCI Machine Learning Repository](http://archive.ics.uci.edu/ml/datasets/balance+scale).\n"
   ]
  },
  {
   "cell_type": "markdown",
   "metadata": {},
   "source": [
    "### Task 1: predict the position of the balance scale\n",
    "Create a neural network that predicts the position of the balance scale, i.e. whether the tip is to the left, balanced or to the right. You can base your code on the Iris dataset neural network code from Exercise 2."
   ]
  },
  {
   "cell_type": "code",
   "execution_count": null,
   "metadata": {
    "collapsed": true
   },
   "outputs": [],
   "source": [
    "print(\"Your code goes here!\")"
   ]
  },
  {
   "cell_type": "markdown",
   "metadata": {},
   "source": [
    "### Task 2: feature engineering\n",
    "How accurate was the model you created in Task 1?\n",
    "\n",
    "A common practice in machine learning is to perform [feature engineering](https://en.wikipedia.org/wiki/Feature_engineering). This the process of using domain knowledge to create new features from your existing features. It can sometimes improve the performance of your machine learning algorithm.\n",
    "\n",
    "How could you use feature engineering to lift performance in this example?\n",
    "\n",
    "A hint is on the home page for the data set: the correct way to find the class is the greater of *left-distance `x` left-weight* and *right-distance `x` right-weight*. If they are equal, it is balanced.\n",
    "\n",
    "Create two new features: *left-distance `x` left-weight* and *right-distance `x` right-weight* and train your neural network with them.\n",
    "\n",
    "What is the accuracy of your neural network now?\n",
    "\n",
    "Hint: you may find [`np.column_stack((a,b))`](https://docs.scipy.org/doc/numpy/reference/generated/numpy.column_stack.html) handy."
   ]
  },
  {
   "cell_type": "code",
   "execution_count": null,
   "metadata": {
    "collapsed": true
   },
   "outputs": [],
   "source": [
    "print(\"Your code goes here!\")"
   ]
  }
 ],
 "metadata": {
  "kernelspec": {
   "display_name": "Python 3",
   "language": "python",
   "name": "python3"
  },
  "language_info": {
   "codemirror_mode": {
    "name": "ipython",
    "version": 3
   },
   "file_extension": ".py",
   "mimetype": "text/x-python",
   "name": "python",
   "nbconvert_exporter": "python",
   "pygments_lexer": "ipython3",
   "version": "3.5.2"
  }
 },
 "nbformat": 4,
 "nbformat_minor": 1
}
