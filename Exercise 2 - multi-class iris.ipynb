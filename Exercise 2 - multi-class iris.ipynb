{
  "nbformat": 4,
  "nbformat_minor": 0,
  "metadata": {
    "colab": {
      "name": "Exercise 2 - multi-class iris.ipynb",
      "version": "0.3.2",
      "provenance": [],
      "include_colab_link": true
    },
    "language_info": {
      "codemirror_mode": {
        "name": "ipython",
        "version": 3
      },
      "file_extension": ".py",
      "mimetype": "text/x-python",
      "name": "python",
      "nbconvert_exporter": "python",
      "pygments_lexer": "ipython3",
      "version": "3.6.8"
    },
    "kernelspec": {
      "display_name": "Python 3",
      "language": "python",
      "name": "python3"
    }
  },
  "cells": [
    {
      "cell_type": "markdown",
      "metadata": {
        "id": "view-in-github",
        "colab_type": "text"
      },
      "source": [
        "<a href=\"https://colab.research.google.com/github/UoA-eResearch/deep-learning-tutorial/blob/master/Exercise%202%20-%20multi-class%20iris.ipynb\" target=\"_parent\"><img src=\"https://colab.research.google.com/assets/colab-badge.svg\" alt=\"Open In Colab\"/></a>"
      ]
    },
    {
      "cell_type": "markdown",
      "metadata": {
        "id": "xPQTvjnTzTqM",
        "colab_type": "text"
      },
      "source": [
        "## Exercise 2: The Iris Dataset\n",
        "In this exercise we will create a neural network to classify 3 different types of Iris (Setosa, Versicolor and Virginica) based on their sepal length, sepal width, petal length and petal width.\n",
        "\n",
        "![Irises](http://dataaspirant.com/wp-content/uploads/2017/01/irises.png)\n",
        "\n",
        "This is a multi class classification problem. It is similar to the Pima Indian's binary classification exercise, but with three classes to predict instead of two."
      ]
    },
    {
      "cell_type": "markdown",
      "metadata": {
        "id": "l6B9pUqCzTqO",
        "colab_type": "text"
      },
      "source": [
        "### Import dependencies\n",
        "Start by importing the dependencies we will need for the project"
      ]
    },
    {
      "cell_type": "code",
      "metadata": {
        "id": "JB8CJHppzTqP",
        "colab_type": "code",
        "colab": {
          "base_uri": "https://localhost:8080/",
          "height": 34
        },
        "outputId": "0855514c-cc7e-45c3-fb40-a7568400a84f"
      },
      "source": [
        "from keras.models import Sequential\n",
        "from keras.layers import Dense\n",
        "import numpy as np\n",
        "from sklearn.model_selection import train_test_split\n",
        "from sklearn.preprocessing import LabelEncoder\n",
        "from keras.utils import np_utils\n",
        "import matplotlib.pyplot as plt\n",
        "from sklearn import metrics"
      ],
      "execution_count": 2,
      "outputs": [
        {
          "output_type": "stream",
          "text": [
            "Using TensorFlow backend.\n"
          ],
          "name": "stderr"
        }
      ]
    },
    {
      "cell_type": "code",
      "metadata": {
        "id": "YcA6fnZKzTqU",
        "colab_type": "code",
        "colab": {}
      },
      "source": [
        "def plot_acc_loss(history):\n",
        "    f, (ax1, ax2) = plt.subplots(2,1, figsize=(10,10))\n",
        "    \n",
        "    # Summarize history of accuracy\n",
        "    ax1.plot(history.history['loss'])\n",
        "    ax1.plot(history.history['val_loss'])\n",
        "    ax1.set_title('model loss')\n",
        "    ax1.legend(['train', 'test'], loc='upper left')\n",
        "    \n",
        "    # Summarize history of accuracy\n",
        "    ax2.plot(history.history['acc'])\n",
        "    ax2.plot(history.history['val_acc'])\n",
        "    ax2.set_title('model accuracy')\n",
        "    ax2.set_xlabel('epoch')\n",
        "    ax2.legend(['train', 'test'], loc='upper left')\n",
        "    \n",
        "    plt.subplots_adjust(hspace=0.5)\n",
        "    plt.show()"
      ],
      "execution_count": 0,
      "outputs": []
    },
    {
      "cell_type": "markdown",
      "metadata": {
        "id": "VuDTA3s9zTqV",
        "colab_type": "text"
      },
      "source": [
        "### Set seed\n",
        "Set a seed value so that when we repeatedly run our code we will get the same result. Using the same seed is important when you want to compare algorithms."
      ]
    },
    {
      "cell_type": "code",
      "metadata": {
        "id": "AeLiwmMNzTqW",
        "colab_type": "code",
        "colab": {}
      },
      "source": [
        "seed = 7\n",
        "np.random.seed(seed)"
      ],
      "execution_count": 0,
      "outputs": []
    },
    {
      "cell_type": "markdown",
      "metadata": {
        "id": "OxNqXnJTzTqY",
        "colab_type": "text"
      },
      "source": [
        "### Import data\n",
        "The Iris dataset contains four features from 150 different Iris flowers. The features in the dataset are described below.\n",
        "\n",
        "* Sepal length (cm)\n",
        "* Sepal width (cm)\n",
        "* Petal length (cm)\n",
        "* Petal width (cm)\n",
        "* Class: Iris setosa, Iris versicolor or Iris virginica\n",
        "\n",
        "Sepals are the part of a flower that protect and support the petals. The petals surround the reproductive parts of the flower.\n",
        "\n",
        "![Iris labeled](http://terpconnect.umd.edu/~petersd/666/html/iris_with_labels.jpg)\n",
        "\n",
        "A snapshot of the dataset is illustrated below (not in order).\n",
        "\n",
        "|Sepal Length|Sepal Width|Petal Length|Petal Width|Class|\n",
        "|---|---|---|---|-----------|\n",
        "|5.1|3.5|1.4|0.2|Iris-setosa|\n",
        "|4.9|3.0|1.4|0.2|Iris-setosa|\n",
        "|7.0|3.2|4.7|1.4|Iris-versicolor|\n",
        "|6.4|3.2|4.5|1.5|Iris-versicolor|\n",
        "|6.3|3.3|6.0|2.5|Iris-virginica|\n",
        "|5.8|2.7|5.1|1.9|Iris-virginica|\n",
        "\n",
        "To load this data into memory, use the `np.loadtxt` function. The data type (`dtype`) is set to `str` because our input data is a mix of numbers and strings. This will be dealt with when we split the data."
      ]
    },
    {
      "cell_type": "code",
      "metadata": {
        "id": "-wYz6SEDzTqY",
        "colab_type": "code",
        "colab": {
          "base_uri": "https://localhost:8080/",
          "height": 357
        },
        "outputId": "469639fb-5ad9-433a-c4c7-236a8c13da95"
      },
      "source": [
        "data = np.loadtxt('https://raw.githubusercontent.com/UoA-eResearch/deep-learning-tutorial/master/data/iris.csv?token=AHHIO3VKGHYLCEE6KZT2SRC5BATXM', delimiter=\",\", dtype=str)\n",
        "print(data[:20])"
      ],
      "execution_count": 6,
      "outputs": [
        {
          "output_type": "stream",
          "text": [
            "[['5.1' '3.5' '1.4' '0.2' 'Iris-setosa']\n",
            " ['4.9' '3.0' '1.4' '0.2' 'Iris-setosa']\n",
            " ['4.7' '3.2' '1.3' '0.2' 'Iris-setosa']\n",
            " ['4.6' '3.1' '1.5' '0.2' 'Iris-setosa']\n",
            " ['5.0' '3.6' '1.4' '0.2' 'Iris-setosa']\n",
            " ['5.4' '3.9' '1.7' '0.4' 'Iris-setosa']\n",
            " ['4.6' '3.4' '1.4' '0.3' 'Iris-setosa']\n",
            " ['5.0' '3.4' '1.5' '0.2' 'Iris-setosa']\n",
            " ['4.4' '2.9' '1.4' '0.2' 'Iris-setosa']\n",
            " ['4.9' '3.1' '1.5' '0.1' 'Iris-setosa']\n",
            " ['5.4' '3.7' '1.5' '0.2' 'Iris-setosa']\n",
            " ['4.8' '3.4' '1.6' '0.2' 'Iris-setosa']\n",
            " ['4.8' '3.0' '1.4' '0.1' 'Iris-setosa']\n",
            " ['4.3' '3.0' '1.1' '0.1' 'Iris-setosa']\n",
            " ['5.8' '4.0' '1.2' '0.2' 'Iris-setosa']\n",
            " ['5.7' '4.4' '1.5' '0.4' 'Iris-setosa']\n",
            " ['5.4' '3.9' '1.3' '0.4' 'Iris-setosa']\n",
            " ['5.1' '3.5' '1.4' '0.3' 'Iris-setosa']\n",
            " ['5.7' '3.8' '1.7' '0.3' 'Iris-setosa']\n",
            " ['5.1' '3.8' '1.5' '0.3' 'Iris-setosa']]\n"
          ],
          "name": "stdout"
        }
      ]
    },
    {
      "cell_type": "markdown",
      "metadata": {
        "id": "KGLO13AQzTqb",
        "colab_type": "text"
      },
      "source": [
        "Separate the data into input (X) and output (y) variables.\n",
        "\n",
        "Note that we convert the input data into floats."
      ]
    },
    {
      "cell_type": "code",
      "metadata": {
        "id": "y-EcR4awzTqb",
        "colab_type": "code",
        "colab": {}
      },
      "source": [
        "X = data[:, 0:4].astype(float)\n",
        "y = data[:, 4]"
      ],
      "execution_count": 0,
      "outputs": []
    },
    {
      "cell_type": "markdown",
      "metadata": {
        "id": "A2zYDMAbzTqd",
        "colab_type": "text"
      },
      "source": [
        "If you look carefully at the target values, you will notice that they are strings, i.e. 'Iris-setosa', 'Iris-versicolor' and 'Iris-virginica'.\n",
        "\n",
        "Keras needs numbers or matrices to work with, so we will need to reformat the target values.\n",
        "\n",
        "The problem with converting the class values to numbers (e.g. 'Iris-setosa' becomes 0, 'Iris-versicolor' 1 etc) is that it implies that the target values are ordinal. That is, 'Iris-setosa' is somehow less than 'Iris-versicolor'.\n",
        "\n",
        "A better way to represent classes in a multi-class classification problem, is to 'one hot encode' the target values. An example is shown below. A matrix of zeros is generated. Each row corresponds to a sample and each column corresponds to a particular class. A 1 is placed into the column to incidicate the class that it belongs too.\n",
        "\n",
        "|Iris-setosa|Iris-versicolor|Iris-virginica|\n",
        "|---|---|---|\n",
        "|1|0|0|\n",
        "|0|1|0|\n",
        "|0|0|1|\n",
        "\n",
        "One hot encoding is a two step process. First encode the target values (y) into an array of numbers using the `LabelEncoder` from scikit-learn and then one hot encode the numbers with the `np_utils.to_categorical` function."
      ]
    },
    {
      "cell_type": "code",
      "metadata": {
        "id": "QmReXRywzTqe",
        "colab_type": "code",
        "colab": {}
      },
      "source": [
        "y_encoded = LabelEncoder().fit(y).transform(y) # Convert the classes into numbers\n",
        "y_one_hot_encoded = np_utils.to_categorical(y_encoded) # One hot encode the numbers"
      ],
      "execution_count": 0,
      "outputs": []
    },
    {
      "cell_type": "code",
      "metadata": {
        "id": "r6YS0NRVzTqf",
        "colab_type": "code",
        "colab": {
          "base_uri": "https://localhost:8080/",
          "height": 136
        },
        "outputId": "402bd4cc-d3b6-42b7-db0b-3ac7c9af4c5b"
      },
      "source": [
        "y_encoded"
      ],
      "execution_count": 9,
      "outputs": [
        {
          "output_type": "execute_result",
          "data": {
            "text/plain": [
              "array([0, 0, 0, 0, 0, 0, 0, 0, 0, 0, 0, 0, 0, 0, 0, 0, 0, 0, 0, 0, 0, 0,\n",
              "       0, 0, 0, 0, 0, 0, 0, 0, 0, 0, 0, 0, 0, 0, 0, 0, 0, 0, 0, 0, 0, 0,\n",
              "       0, 0, 0, 0, 0, 0, 1, 1, 1, 1, 1, 1, 1, 1, 1, 1, 1, 1, 1, 1, 1, 1,\n",
              "       1, 1, 1, 1, 1, 1, 1, 1, 1, 1, 1, 1, 1, 1, 1, 1, 1, 1, 1, 1, 1, 1,\n",
              "       1, 1, 1, 1, 1, 1, 1, 1, 1, 1, 1, 1, 2, 2, 2, 2, 2, 2, 2, 2, 2, 2,\n",
              "       2, 2, 2, 2, 2, 2, 2, 2, 2, 2, 2, 2, 2, 2, 2, 2, 2, 2, 2, 2, 2, 2,\n",
              "       2, 2, 2, 2, 2, 2, 2, 2, 2, 2, 2, 2, 2, 2, 2, 2, 2, 2])"
            ]
          },
          "metadata": {
            "tags": []
          },
          "execution_count": 9
        }
      ]
    },
    {
      "cell_type": "code",
      "metadata": {
        "id": "jQgfvZcfzTqi",
        "colab_type": "code",
        "colab": {
          "base_uri": "https://localhost:8080/",
          "height": 187
        },
        "outputId": "f3c55201-bda6-4f79-c9f4-3c5491902d38"
      },
      "source": [
        "y_one_hot_encoded[0:10]"
      ],
      "execution_count": 10,
      "outputs": [
        {
          "output_type": "execute_result",
          "data": {
            "text/plain": [
              "array([[1., 0., 0.],\n",
              "       [1., 0., 0.],\n",
              "       [1., 0., 0.],\n",
              "       [1., 0., 0.],\n",
              "       [1., 0., 0.],\n",
              "       [1., 0., 0.],\n",
              "       [1., 0., 0.],\n",
              "       [1., 0., 0.],\n",
              "       [1., 0., 0.],\n",
              "       [1., 0., 0.]], dtype=float32)"
            ]
          },
          "metadata": {
            "tags": []
          },
          "execution_count": 10
        }
      ]
    },
    {
      "cell_type": "markdown",
      "metadata": {
        "id": "O9s47Jx9zTqk",
        "colab_type": "text"
      },
      "source": [
        "Like the previous exercise, use the `train_test_split` function from scikit-learn to split the input and target data into training and test datasets."
      ]
    },
    {
      "cell_type": "code",
      "metadata": {
        "id": "8qdeRm6LzTql",
        "colab_type": "code",
        "colab": {}
      },
      "source": [
        "X_train, X_test, y_train, y_test = train_test_split(X, y_one_hot_encoded, test_size=0.33, random_state=seed)"
      ],
      "execution_count": 0,
      "outputs": []
    },
    {
      "cell_type": "markdown",
      "metadata": {
        "id": "9Gp1FcnQzTqn",
        "colab_type": "text"
      },
      "source": [
        "### Create the model\n",
        "The code snippet below creates a very basic neural network model, with three layers: an input layer, a hidden layer and an output layer.\n",
        "\n",
        "The first layer is a fully connected `Dense` layer. We use four neurons in the hidden layer and have 4 input neurons for the 4 features.\n",
        "\n",
        "The last layer has 3 neurons, one for each class."
      ]
    },
    {
      "cell_type": "code",
      "metadata": {
        "id": "hG9oXx6dzTqn",
        "colab_type": "code",
        "colab": {
          "base_uri": "https://localhost:8080/",
          "height": 68
        },
        "outputId": "47a50243-c551-402b-be49-904f8cbef7ad"
      },
      "source": [
        "model = Sequential()\n",
        "model.add(Dense(4, input_dim=4, activation='relu', kernel_initializer='normal'))\n",
        "model.add(Dense(3, activation='sigmoid', kernel_initializer='normal'))"
      ],
      "execution_count": 12,
      "outputs": [
        {
          "output_type": "stream",
          "text": [
            "WARNING:tensorflow:From /usr/local/lib/python3.6/dist-packages/tensorflow/python/framework/op_def_library.py:263: colocate_with (from tensorflow.python.framework.ops) is deprecated and will be removed in a future version.\n",
            "Instructions for updating:\n",
            "Colocations handled automatically by placer.\n"
          ],
          "name": "stdout"
        }
      ]
    },
    {
      "cell_type": "markdown",
      "metadata": {
        "id": "McwgpeyfzTqp",
        "colab_type": "text"
      },
      "source": [
        "### Compile the model\n",
        "We then compile the model. The loss function is set to `categorical_crossentropy` (different from the loss function used in the binary classification exercise) because we are performing multi-class classification."
      ]
    },
    {
      "cell_type": "code",
      "metadata": {
        "id": "F86R20yJzTqp",
        "colab_type": "code",
        "colab": {}
      },
      "source": [
        "model.compile(loss='categorical_crossentropy', optimizer='adam', metrics=['accuracy'])"
      ],
      "execution_count": 0,
      "outputs": []
    },
    {
      "cell_type": "markdown",
      "metadata": {
        "id": "Hr-3q6CEzTqs",
        "colab_type": "text"
      },
      "source": [
        "### Fit the model\n",
        "Now that we have compiled the model, we can train it with the data we prepared earlier. We are using more epochs but a smaller batch size than the previous exercise.\n",
        "\n",
        "To see the model training history in text, just don't include `verbose=0`"
      ]
    },
    {
      "cell_type": "code",
      "metadata": {
        "id": "t0ohIS-DzTqs",
        "colab_type": "code",
        "colab": {
          "base_uri": "https://localhost:8080/",
          "height": 6885
        },
        "outputId": "9918b8d8-0462-4e2c-d670-f26231846494"
      },
      "source": [
        "history = model.fit(X_train, y_train, validation_data=(X_test, y_test), epochs=200, batch_size=5)"
      ],
      "execution_count": 14,
      "outputs": [
        {
          "output_type": "stream",
          "text": [
            "WARNING:tensorflow:From /usr/local/lib/python3.6/dist-packages/tensorflow/python/ops/math_ops.py:3066: to_int32 (from tensorflow.python.ops.math_ops) is deprecated and will be removed in a future version.\n",
            "Instructions for updating:\n",
            "Use tf.cast instead.\n",
            "Train on 100 samples, validate on 50 samples\n",
            "Epoch 1/200\n",
            "100/100 [==============================] - 1s 7ms/step - loss: 1.0999 - acc: 0.3600 - val_loss: 1.0989 - val_acc: 0.2800\n",
            "Epoch 2/200\n",
            "100/100 [==============================] - 0s 316us/step - loss: 1.0974 - acc: 0.5400 - val_loss: 1.0968 - val_acc: 0.6400\n",
            "Epoch 3/200\n",
            "100/100 [==============================] - 0s 292us/step - loss: 1.0952 - acc: 0.6800 - val_loss: 1.0942 - val_acc: 0.6400\n",
            "Epoch 4/200\n",
            "100/100 [==============================] - 0s 308us/step - loss: 1.0925 - acc: 0.6800 - val_loss: 1.0906 - val_acc: 0.6400\n",
            "Epoch 5/200\n",
            "100/100 [==============================] - 0s 281us/step - loss: 1.0886 - acc: 0.6600 - val_loss: 1.0855 - val_acc: 0.6400\n",
            "Epoch 6/200\n",
            "100/100 [==============================] - 0s 287us/step - loss: 1.0835 - acc: 0.6800 - val_loss: 1.0795 - val_acc: 0.6400\n",
            "Epoch 7/200\n",
            "100/100 [==============================] - 0s 293us/step - loss: 1.0761 - acc: 0.6800 - val_loss: 1.0718 - val_acc: 0.6400\n",
            "Epoch 8/200\n",
            "100/100 [==============================] - 0s 317us/step - loss: 1.0666 - acc: 0.6800 - val_loss: 1.0614 - val_acc: 0.6400\n",
            "Epoch 9/200\n",
            "100/100 [==============================] - 0s 345us/step - loss: 1.0551 - acc: 0.6800 - val_loss: 1.0493 - val_acc: 0.6400\n",
            "Epoch 10/200\n",
            "100/100 [==============================] - 0s 349us/step - loss: 1.0418 - acc: 0.6800 - val_loss: 1.0351 - val_acc: 0.6400\n",
            "Epoch 11/200\n",
            "100/100 [==============================] - 0s 331us/step - loss: 1.0254 - acc: 0.6800 - val_loss: 1.0185 - val_acc: 0.6400\n",
            "Epoch 12/200\n",
            "100/100 [==============================] - 0s 281us/step - loss: 1.0079 - acc: 0.6800 - val_loss: 1.0012 - val_acc: 0.6400\n",
            "Epoch 13/200\n",
            "100/100 [==============================] - 0s 281us/step - loss: 0.9883 - acc: 0.6800 - val_loss: 0.9816 - val_acc: 0.6400\n",
            "Epoch 14/200\n",
            "100/100 [==============================] - 0s 290us/step - loss: 0.9669 - acc: 0.6800 - val_loss: 0.9609 - val_acc: 0.6400\n",
            "Epoch 15/200\n",
            "100/100 [==============================] - 0s 326us/step - loss: 0.9448 - acc: 0.6800 - val_loss: 0.9395 - val_acc: 0.6400\n",
            "Epoch 16/200\n",
            "100/100 [==============================] - 0s 326us/step - loss: 0.9207 - acc: 0.6800 - val_loss: 0.9166 - val_acc: 0.6400\n",
            "Epoch 17/200\n",
            "100/100 [==============================] - 0s 314us/step - loss: 0.8984 - acc: 0.6800 - val_loss: 0.8957 - val_acc: 0.6400\n",
            "Epoch 18/200\n",
            "100/100 [==============================] - 0s 367us/step - loss: 0.8728 - acc: 0.6800 - val_loss: 0.8715 - val_acc: 0.6400\n",
            "Epoch 19/200\n",
            "100/100 [==============================] - 0s 363us/step - loss: 0.8493 - acc: 0.6800 - val_loss: 0.8494 - val_acc: 0.6400\n",
            "Epoch 20/200\n",
            "100/100 [==============================] - 0s 265us/step - loss: 0.8250 - acc: 0.6800 - val_loss: 0.8281 - val_acc: 0.6400\n",
            "Epoch 21/200\n",
            "100/100 [==============================] - 0s 277us/step - loss: 0.8015 - acc: 0.6800 - val_loss: 0.8073 - val_acc: 0.6400\n",
            "Epoch 22/200\n",
            "100/100 [==============================] - 0s 272us/step - loss: 0.7781 - acc: 0.6800 - val_loss: 0.7859 - val_acc: 0.6400\n",
            "Epoch 23/200\n",
            "100/100 [==============================] - 0s 305us/step - loss: 0.7549 - acc: 0.6800 - val_loss: 0.7649 - val_acc: 0.6400\n",
            "Epoch 24/200\n",
            "100/100 [==============================] - 0s 267us/step - loss: 0.7335 - acc: 0.6800 - val_loss: 0.7460 - val_acc: 0.6400\n",
            "Epoch 25/200\n",
            "100/100 [==============================] - 0s 280us/step - loss: 0.7123 - acc: 0.6900 - val_loss: 0.7270 - val_acc: 0.6400\n",
            "Epoch 26/200\n",
            "100/100 [==============================] - 0s 296us/step - loss: 0.6920 - acc: 0.6900 - val_loss: 0.7094 - val_acc: 0.6400\n",
            "Epoch 27/200\n",
            "100/100 [==============================] - 0s 275us/step - loss: 0.6730 - acc: 0.6900 - val_loss: 0.6925 - val_acc: 0.6600\n",
            "Epoch 28/200\n",
            "100/100 [==============================] - 0s 311us/step - loss: 0.6551 - acc: 0.6900 - val_loss: 0.6757 - val_acc: 0.6600\n",
            "Epoch 29/200\n",
            "100/100 [==============================] - 0s 260us/step - loss: 0.6381 - acc: 0.7100 - val_loss: 0.6619 - val_acc: 0.6600\n",
            "Epoch 30/200\n",
            "100/100 [==============================] - 0s 266us/step - loss: 0.6198 - acc: 0.7300 - val_loss: 0.6456 - val_acc: 0.6600\n",
            "Epoch 31/200\n",
            "100/100 [==============================] - 0s 258us/step - loss: 0.6052 - acc: 0.7300 - val_loss: 0.6321 - val_acc: 0.6600\n",
            "Epoch 32/200\n",
            "100/100 [==============================] - 0s 271us/step - loss: 0.5891 - acc: 0.7400 - val_loss: 0.6179 - val_acc: 0.7400\n",
            "Epoch 33/200\n",
            "100/100 [==============================] - 0s 264us/step - loss: 0.5748 - acc: 0.7900 - val_loss: 0.6046 - val_acc: 0.8200\n",
            "Epoch 34/200\n",
            "100/100 [==============================] - 0s 310us/step - loss: 0.5610 - acc: 0.8500 - val_loss: 0.5922 - val_acc: 0.8600\n",
            "Epoch 35/200\n",
            "100/100 [==============================] - 0s 320us/step - loss: 0.5484 - acc: 0.8900 - val_loss: 0.5796 - val_acc: 0.8600\n",
            "Epoch 36/200\n",
            "100/100 [==============================] - 0s 282us/step - loss: 0.5359 - acc: 0.8900 - val_loss: 0.5689 - val_acc: 0.9200\n",
            "Epoch 37/200\n",
            "100/100 [==============================] - 0s 291us/step - loss: 0.5246 - acc: 0.9700 - val_loss: 0.5579 - val_acc: 0.9600\n",
            "Epoch 38/200\n",
            "100/100 [==============================] - 0s 266us/step - loss: 0.5133 - acc: 0.9700 - val_loss: 0.5480 - val_acc: 0.9600\n",
            "Epoch 39/200\n",
            "100/100 [==============================] - 0s 276us/step - loss: 0.5030 - acc: 0.9700 - val_loss: 0.5382 - val_acc: 0.9600\n",
            "Epoch 40/200\n",
            "100/100 [==============================] - 0s 291us/step - loss: 0.4928 - acc: 0.9700 - val_loss: 0.5287 - val_acc: 0.9600\n",
            "Epoch 41/200\n",
            "100/100 [==============================] - 0s 256us/step - loss: 0.4841 - acc: 0.9700 - val_loss: 0.5201 - val_acc: 0.9800\n",
            "Epoch 42/200\n",
            "100/100 [==============================] - 0s 258us/step - loss: 0.4741 - acc: 0.9700 - val_loss: 0.5117 - val_acc: 0.9600\n",
            "Epoch 43/200\n",
            "100/100 [==============================] - 0s 283us/step - loss: 0.4667 - acc: 0.9700 - val_loss: 0.5039 - val_acc: 0.9600\n",
            "Epoch 44/200\n",
            "100/100 [==============================] - 0s 280us/step - loss: 0.4589 - acc: 0.9600 - val_loss: 0.4954 - val_acc: 1.0000\n",
            "Epoch 45/200\n",
            "100/100 [==============================] - 0s 287us/step - loss: 0.4488 - acc: 0.9700 - val_loss: 0.4876 - val_acc: 0.9800\n",
            "Epoch 46/200\n",
            "100/100 [==============================] - 0s 263us/step - loss: 0.4430 - acc: 0.9700 - val_loss: 0.4805 - val_acc: 0.9600\n",
            "Epoch 47/200\n",
            "100/100 [==============================] - 0s 282us/step - loss: 0.4334 - acc: 0.9700 - val_loss: 0.4728 - val_acc: 0.9800\n",
            "Epoch 48/200\n",
            "100/100 [==============================] - 0s 290us/step - loss: 0.4258 - acc: 0.9700 - val_loss: 0.4659 - val_acc: 0.9800\n",
            "Epoch 49/200\n",
            "100/100 [==============================] - 0s 269us/step - loss: 0.4200 - acc: 0.9600 - val_loss: 0.4589 - val_acc: 0.9800\n",
            "Epoch 50/200\n",
            "100/100 [==============================] - 0s 263us/step - loss: 0.4136 - acc: 0.9700 - val_loss: 0.4529 - val_acc: 0.9600\n",
            "Epoch 51/200\n",
            "100/100 [==============================] - 0s 260us/step - loss: 0.4092 - acc: 0.9700 - val_loss: 0.4463 - val_acc: 1.0000\n",
            "Epoch 52/200\n",
            "100/100 [==============================] - 0s 287us/step - loss: 0.4018 - acc: 0.9700 - val_loss: 0.4397 - val_acc: 0.9600\n",
            "Epoch 53/200\n",
            "100/100 [==============================] - 0s 260us/step - loss: 0.3941 - acc: 0.9700 - val_loss: 0.4335 - val_acc: 0.9800\n",
            "Epoch 54/200\n",
            "100/100 [==============================] - 0s 281us/step - loss: 0.3863 - acc: 0.9700 - val_loss: 0.4279 - val_acc: 0.9800\n",
            "Epoch 55/200\n",
            "100/100 [==============================] - 0s 252us/step - loss: 0.3827 - acc: 0.9700 - val_loss: 0.4224 - val_acc: 1.0000\n",
            "Epoch 56/200\n",
            "100/100 [==============================] - 0s 267us/step - loss: 0.3749 - acc: 0.9700 - val_loss: 0.4168 - val_acc: 0.9600\n",
            "Epoch 57/200\n",
            "100/100 [==============================] - 0s 285us/step - loss: 0.3701 - acc: 0.9700 - val_loss: 0.4111 - val_acc: 0.9600\n",
            "Epoch 58/200\n",
            "100/100 [==============================] - 0s 259us/step - loss: 0.3639 - acc: 0.9700 - val_loss: 0.4061 - val_acc: 0.9800\n",
            "Epoch 59/200\n",
            "100/100 [==============================] - 0s 247us/step - loss: 0.3607 - acc: 0.9600 - val_loss: 0.4007 - val_acc: 1.0000\n",
            "Epoch 60/200\n",
            "100/100 [==============================] - 0s 292us/step - loss: 0.3558 - acc: 0.9700 - val_loss: 0.3963 - val_acc: 0.9600\n",
            "Epoch 61/200\n",
            "100/100 [==============================] - 0s 264us/step - loss: 0.3494 - acc: 0.9700 - val_loss: 0.3908 - val_acc: 0.9800\n",
            "Epoch 62/200\n",
            "100/100 [==============================] - 0s 260us/step - loss: 0.3441 - acc: 0.9700 - val_loss: 0.3858 - val_acc: 0.9800\n",
            "Epoch 63/200\n",
            "100/100 [==============================] - 0s 271us/step - loss: 0.3420 - acc: 0.9700 - val_loss: 0.3815 - val_acc: 0.9800\n",
            "Epoch 64/200\n",
            "100/100 [==============================] - 0s 385us/step - loss: 0.3361 - acc: 0.9700 - val_loss: 0.3774 - val_acc: 0.9800\n",
            "Epoch 65/200\n",
            "100/100 [==============================] - 0s 263us/step - loss: 0.3307 - acc: 0.9700 - val_loss: 0.3725 - val_acc: 0.9800\n",
            "Epoch 66/200\n",
            "100/100 [==============================] - 0s 282us/step - loss: 0.3264 - acc: 0.9700 - val_loss: 0.3682 - val_acc: 0.9800\n",
            "Epoch 67/200\n",
            "100/100 [==============================] - 0s 282us/step - loss: 0.3220 - acc: 0.9700 - val_loss: 0.3639 - val_acc: 0.9800\n",
            "Epoch 68/200\n",
            "100/100 [==============================] - 0s 254us/step - loss: 0.3187 - acc: 0.9700 - val_loss: 0.3603 - val_acc: 0.9600\n",
            "Epoch 69/200\n",
            "100/100 [==============================] - 0s 335us/step - loss: 0.3151 - acc: 0.9700 - val_loss: 0.3558 - val_acc: 0.9800\n",
            "Epoch 70/200\n",
            "100/100 [==============================] - 0s 311us/step - loss: 0.3101 - acc: 0.9700 - val_loss: 0.3522 - val_acc: 0.9800\n",
            "Epoch 71/200\n",
            "100/100 [==============================] - 0s 277us/step - loss: 0.3068 - acc: 0.9700 - val_loss: 0.3482 - val_acc: 0.9800\n",
            "Epoch 72/200\n",
            "100/100 [==============================] - 0s 262us/step - loss: 0.3043 - acc: 0.9700 - val_loss: 0.3445 - val_acc: 0.9800\n",
            "Epoch 73/200\n",
            "100/100 [==============================] - 0s 261us/step - loss: 0.2996 - acc: 0.9700 - val_loss: 0.3414 - val_acc: 1.0000\n",
            "Epoch 74/200\n",
            "100/100 [==============================] - 0s 264us/step - loss: 0.2979 - acc: 0.9700 - val_loss: 0.3375 - val_acc: 0.9800\n",
            "Epoch 75/200\n",
            "100/100 [==============================] - 0s 273us/step - loss: 0.2939 - acc: 0.9700 - val_loss: 0.3347 - val_acc: 0.9600\n",
            "Epoch 76/200\n",
            "100/100 [==============================] - 0s 262us/step - loss: 0.2909 - acc: 0.9700 - val_loss: 0.3306 - val_acc: 0.9800\n",
            "Epoch 77/200\n",
            "100/100 [==============================] - 0s 281us/step - loss: 0.2863 - acc: 0.9700 - val_loss: 0.3275 - val_acc: 0.9800\n",
            "Epoch 78/200\n",
            "100/100 [==============================] - 0s 270us/step - loss: 0.2844 - acc: 0.9700 - val_loss: 0.3243 - val_acc: 0.9800\n",
            "Epoch 79/200\n",
            "100/100 [==============================] - 0s 276us/step - loss: 0.2817 - acc: 0.9700 - val_loss: 0.3222 - val_acc: 1.0000\n",
            "Epoch 80/200\n",
            "100/100 [==============================] - 0s 271us/step - loss: 0.2773 - acc: 0.9700 - val_loss: 0.3181 - val_acc: 0.9800\n",
            "Epoch 81/200\n",
            "100/100 [==============================] - 0s 263us/step - loss: 0.2749 - acc: 0.9700 - val_loss: 0.3150 - val_acc: 0.9800\n",
            "Epoch 82/200\n",
            "100/100 [==============================] - 0s 257us/step - loss: 0.2709 - acc: 0.9700 - val_loss: 0.3122 - val_acc: 0.9800\n",
            "Epoch 83/200\n",
            "100/100 [==============================] - 0s 270us/step - loss: 0.2696 - acc: 0.9600 - val_loss: 0.3103 - val_acc: 1.0000\n",
            "Epoch 84/200\n",
            "100/100 [==============================] - 0s 256us/step - loss: 0.2656 - acc: 0.9700 - val_loss: 0.3065 - val_acc: 0.9800\n",
            "Epoch 85/200\n",
            "100/100 [==============================] - 0s 252us/step - loss: 0.2644 - acc: 0.9700 - val_loss: 0.3036 - val_acc: 0.9800\n",
            "Epoch 86/200\n",
            "100/100 [==============================] - 0s 300us/step - loss: 0.2613 - acc: 0.9700 - val_loss: 0.3007 - val_acc: 0.9800\n",
            "Epoch 87/200\n",
            "100/100 [==============================] - 0s 337us/step - loss: 0.2579 - acc: 0.9700 - val_loss: 0.2982 - val_acc: 0.9800\n",
            "Epoch 88/200\n",
            "100/100 [==============================] - 0s 248us/step - loss: 0.2558 - acc: 0.9600 - val_loss: 0.2959 - val_acc: 1.0000\n",
            "Epoch 89/200\n",
            "100/100 [==============================] - 0s 265us/step - loss: 0.2531 - acc: 0.9700 - val_loss: 0.2926 - val_acc: 0.9800\n",
            "Epoch 90/200\n",
            "100/100 [==============================] - 0s 248us/step - loss: 0.2507 - acc: 0.9700 - val_loss: 0.2905 - val_acc: 0.9800\n",
            "Epoch 91/200\n",
            "100/100 [==============================] - 0s 253us/step - loss: 0.2495 - acc: 0.9700 - val_loss: 0.2878 - val_acc: 0.9800\n",
            "Epoch 92/200\n",
            "100/100 [==============================] - 0s 270us/step - loss: 0.2461 - acc: 0.9700 - val_loss: 0.2851 - val_acc: 0.9800\n",
            "Epoch 93/200\n",
            "100/100 [==============================] - 0s 278us/step - loss: 0.2437 - acc: 0.9600 - val_loss: 0.2832 - val_acc: 1.0000\n",
            "Epoch 94/200\n",
            "100/100 [==============================] - 0s 261us/step - loss: 0.2410 - acc: 0.9600 - val_loss: 0.2803 - val_acc: 0.9800\n",
            "Epoch 95/200\n",
            "100/100 [==============================] - 0s 252us/step - loss: 0.2400 - acc: 0.9700 - val_loss: 0.2779 - val_acc: 0.9800\n",
            "Epoch 96/200\n",
            "100/100 [==============================] - 0s 246us/step - loss: 0.2368 - acc: 0.9600 - val_loss: 0.2762 - val_acc: 0.9800\n",
            "Epoch 97/200\n",
            "100/100 [==============================] - 0s 254us/step - loss: 0.2347 - acc: 0.9600 - val_loss: 0.2736 - val_acc: 0.9800\n",
            "Epoch 98/200\n",
            "100/100 [==============================] - 0s 366us/step - loss: 0.2339 - acc: 0.9700 - val_loss: 0.2709 - val_acc: 0.9800\n",
            "Epoch 99/200\n",
            "100/100 [==============================] - 0s 266us/step - loss: 0.2303 - acc: 0.9700 - val_loss: 0.2693 - val_acc: 0.9800\n",
            "Epoch 100/200\n",
            "100/100 [==============================] - 0s 265us/step - loss: 0.2293 - acc: 0.9600 - val_loss: 0.2670 - val_acc: 0.9800\n",
            "Epoch 101/200\n",
            "100/100 [==============================] - 0s 272us/step - loss: 0.2274 - acc: 0.9700 - val_loss: 0.2646 - val_acc: 0.9800\n",
            "Epoch 102/200\n",
            "100/100 [==============================] - 0s 262us/step - loss: 0.2258 - acc: 0.9600 - val_loss: 0.2626 - val_acc: 0.9800\n",
            "Epoch 103/200\n",
            "100/100 [==============================] - 0s 250us/step - loss: 0.2225 - acc: 0.9600 - val_loss: 0.2622 - val_acc: 1.0000\n",
            "Epoch 104/200\n",
            "100/100 [==============================] - 0s 272us/step - loss: 0.2211 - acc: 0.9600 - val_loss: 0.2586 - val_acc: 0.9800\n",
            "Epoch 105/200\n",
            "100/100 [==============================] - 0s 257us/step - loss: 0.2188 - acc: 0.9700 - val_loss: 0.2566 - val_acc: 0.9800\n",
            "Epoch 106/200\n",
            "100/100 [==============================] - 0s 353us/step - loss: 0.2168 - acc: 0.9700 - val_loss: 0.2550 - val_acc: 0.9800\n",
            "Epoch 107/200\n",
            "100/100 [==============================] - 0s 274us/step - loss: 0.2156 - acc: 0.9600 - val_loss: 0.2536 - val_acc: 1.0000\n",
            "Epoch 108/200\n",
            "100/100 [==============================] - 0s 266us/step - loss: 0.2137 - acc: 0.9700 - val_loss: 0.2508 - val_acc: 0.9800\n",
            "Epoch 109/200\n",
            "100/100 [==============================] - 0s 271us/step - loss: 0.2134 - acc: 0.9600 - val_loss: 0.2490 - val_acc: 0.9800\n",
            "Epoch 110/200\n",
            "100/100 [==============================] - 0s 263us/step - loss: 0.2110 - acc: 0.9700 - val_loss: 0.2474 - val_acc: 0.9800\n",
            "Epoch 111/200\n",
            "100/100 [==============================] - 0s 253us/step - loss: 0.2089 - acc: 0.9700 - val_loss: 0.2462 - val_acc: 1.0000\n",
            "Epoch 112/200\n",
            "100/100 [==============================] - 0s 258us/step - loss: 0.2080 - acc: 0.9700 - val_loss: 0.2442 - val_acc: 0.9800\n",
            "Epoch 113/200\n",
            "100/100 [==============================] - 0s 254us/step - loss: 0.2084 - acc: 0.9600 - val_loss: 0.2419 - val_acc: 0.9800\n",
            "Epoch 114/200\n",
            "100/100 [==============================] - 0s 248us/step - loss: 0.2034 - acc: 0.9700 - val_loss: 0.2410 - val_acc: 0.9800\n",
            "Epoch 115/200\n",
            "100/100 [==============================] - 0s 298us/step - loss: 0.2028 - acc: 0.9700 - val_loss: 0.2391 - val_acc: 0.9800\n",
            "Epoch 116/200\n",
            "100/100 [==============================] - 0s 250us/step - loss: 0.2006 - acc: 0.9700 - val_loss: 0.2373 - val_acc: 0.9800\n",
            "Epoch 117/200\n",
            "100/100 [==============================] - 0s 256us/step - loss: 0.2011 - acc: 0.9700 - val_loss: 0.2356 - val_acc: 0.9800\n",
            "Epoch 118/200\n",
            "100/100 [==============================] - 0s 254us/step - loss: 0.2032 - acc: 0.9700 - val_loss: 0.2365 - val_acc: 1.0000\n",
            "Epoch 119/200\n",
            "100/100 [==============================] - 0s 332us/step - loss: 0.1992 - acc: 0.9700 - val_loss: 0.2326 - val_acc: 0.9800\n",
            "Epoch 120/200\n",
            "100/100 [==============================] - 0s 284us/step - loss: 0.1967 - acc: 0.9600 - val_loss: 0.2322 - val_acc: 1.0000\n",
            "Epoch 121/200\n",
            "100/100 [==============================] - 0s 260us/step - loss: 0.1935 - acc: 0.9700 - val_loss: 0.2293 - val_acc: 0.9800\n",
            "Epoch 122/200\n",
            "100/100 [==============================] - 0s 289us/step - loss: 0.1923 - acc: 0.9700 - val_loss: 0.2278 - val_acc: 0.9800\n",
            "Epoch 123/200\n",
            "100/100 [==============================] - 0s 244us/step - loss: 0.1914 - acc: 0.9600 - val_loss: 0.2271 - val_acc: 0.9800\n",
            "Epoch 124/200\n",
            "100/100 [==============================] - 0s 278us/step - loss: 0.1896 - acc: 0.9600 - val_loss: 0.2249 - val_acc: 0.9800\n",
            "Epoch 125/200\n",
            "100/100 [==============================] - 0s 270us/step - loss: 0.1887 - acc: 0.9700 - val_loss: 0.2239 - val_acc: 0.9800\n",
            "Epoch 126/200\n",
            "100/100 [==============================] - 0s 244us/step - loss: 0.1876 - acc: 0.9600 - val_loss: 0.2223 - val_acc: 0.9800\n",
            "Epoch 127/200\n",
            "100/100 [==============================] - 0s 243us/step - loss: 0.1857 - acc: 0.9600 - val_loss: 0.2220 - val_acc: 1.0000\n",
            "Epoch 128/200\n",
            "100/100 [==============================] - 0s 284us/step - loss: 0.1869 - acc: 0.9800 - val_loss: 0.2209 - val_acc: 1.0000\n",
            "Epoch 129/200\n",
            "100/100 [==============================] - 0s 289us/step - loss: 0.1836 - acc: 0.9700 - val_loss: 0.2180 - val_acc: 0.9800\n",
            "Epoch 130/200\n",
            "100/100 [==============================] - 0s 267us/step - loss: 0.1850 - acc: 0.9600 - val_loss: 0.2173 - val_acc: 0.9800\n",
            "Epoch 131/200\n",
            "100/100 [==============================] - 0s 295us/step - loss: 0.1830 - acc: 0.9600 - val_loss: 0.2154 - val_acc: 0.9800\n",
            "Epoch 132/200\n",
            "100/100 [==============================] - 0s 283us/step - loss: 0.1813 - acc: 0.9700 - val_loss: 0.2144 - val_acc: 0.9800\n",
            "Epoch 133/200\n",
            "100/100 [==============================] - 0s 277us/step - loss: 0.1821 - acc: 0.9900 - val_loss: 0.2157 - val_acc: 1.0000\n",
            "Epoch 134/200\n",
            "100/100 [==============================] - 0s 239us/step - loss: 0.1772 - acc: 0.9700 - val_loss: 0.2127 - val_acc: 1.0000\n",
            "Epoch 135/200\n",
            "100/100 [==============================] - 0s 250us/step - loss: 0.1766 - acc: 0.9600 - val_loss: 0.2107 - val_acc: 0.9800\n",
            "Epoch 136/200\n",
            "100/100 [==============================] - 0s 298us/step - loss: 0.1755 - acc: 0.9600 - val_loss: 0.2094 - val_acc: 0.9800\n",
            "Epoch 137/200\n",
            "100/100 [==============================] - 0s 271us/step - loss: 0.1748 - acc: 0.9700 - val_loss: 0.2082 - val_acc: 0.9800\n",
            "Epoch 138/200\n",
            "100/100 [==============================] - 0s 234us/step - loss: 0.1734 - acc: 0.9600 - val_loss: 0.2077 - val_acc: 0.9800\n",
            "Epoch 139/200\n",
            "100/100 [==============================] - 0s 290us/step - loss: 0.1724 - acc: 0.9600 - val_loss: 0.2068 - val_acc: 0.9800\n",
            "Epoch 140/200\n",
            "100/100 [==============================] - 0s 273us/step - loss: 0.1724 - acc: 0.9600 - val_loss: 0.2046 - val_acc: 0.9800\n",
            "Epoch 141/200\n",
            "100/100 [==============================] - 0s 284us/step - loss: 0.1696 - acc: 0.9700 - val_loss: 0.2044 - val_acc: 0.9800\n",
            "Epoch 142/200\n",
            "100/100 [==============================] - 0s 242us/step - loss: 0.1694 - acc: 0.9600 - val_loss: 0.2036 - val_acc: 1.0000\n",
            "Epoch 143/200\n",
            "100/100 [==============================] - 0s 249us/step - loss: 0.1689 - acc: 0.9700 - val_loss: 0.2031 - val_acc: 1.0000\n",
            "Epoch 144/200\n",
            "100/100 [==============================] - 0s 263us/step - loss: 0.1692 - acc: 0.9600 - val_loss: 0.2002 - val_acc: 0.9800\n",
            "Epoch 145/200\n",
            "100/100 [==============================] - 0s 267us/step - loss: 0.1658 - acc: 0.9700 - val_loss: 0.1996 - val_acc: 0.9800\n",
            "Epoch 146/200\n",
            "100/100 [==============================] - 0s 264us/step - loss: 0.1657 - acc: 0.9700 - val_loss: 0.1995 - val_acc: 1.0000\n",
            "Epoch 147/200\n",
            "100/100 [==============================] - 0s 243us/step - loss: 0.1655 - acc: 0.9600 - val_loss: 0.1981 - val_acc: 0.9800\n",
            "Epoch 148/200\n",
            "100/100 [==============================] - 0s 261us/step - loss: 0.1639 - acc: 0.9600 - val_loss: 0.1964 - val_acc: 0.9800\n",
            "Epoch 149/200\n",
            "100/100 [==============================] - 0s 277us/step - loss: 0.1629 - acc: 0.9600 - val_loss: 0.1961 - val_acc: 0.9800\n",
            "Epoch 150/200\n",
            "100/100 [==============================] - 0s 274us/step - loss: 0.1630 - acc: 0.9700 - val_loss: 0.1958 - val_acc: 1.0000\n",
            "Epoch 151/200\n",
            "100/100 [==============================] - 0s 289us/step - loss: 0.1609 - acc: 0.9700 - val_loss: 0.1932 - val_acc: 0.9800\n",
            "Epoch 152/200\n",
            "100/100 [==============================] - 0s 292us/step - loss: 0.1630 - acc: 0.9700 - val_loss: 0.1941 - val_acc: 1.0000\n",
            "Epoch 153/200\n",
            "100/100 [==============================] - 0s 269us/step - loss: 0.1592 - acc: 0.9800 - val_loss: 0.1913 - val_acc: 0.9800\n",
            "Epoch 154/200\n",
            "100/100 [==============================] - 0s 254us/step - loss: 0.1587 - acc: 0.9600 - val_loss: 0.1910 - val_acc: 0.9800\n",
            "Epoch 155/200\n",
            "100/100 [==============================] - 0s 258us/step - loss: 0.1573 - acc: 0.9600 - val_loss: 0.1901 - val_acc: 0.9800\n",
            "Epoch 156/200\n",
            "100/100 [==============================] - 0s 257us/step - loss: 0.1563 - acc: 0.9700 - val_loss: 0.1893 - val_acc: 0.9800\n",
            "Epoch 157/200\n",
            "100/100 [==============================] - 0s 247us/step - loss: 0.1577 - acc: 0.9600 - val_loss: 0.1877 - val_acc: 0.9800\n",
            "Epoch 158/200\n",
            "100/100 [==============================] - 0s 315us/step - loss: 0.1556 - acc: 0.9600 - val_loss: 0.1886 - val_acc: 1.0000\n",
            "Epoch 159/200\n",
            "100/100 [==============================] - 0s 245us/step - loss: 0.1547 - acc: 0.9700 - val_loss: 0.1870 - val_acc: 1.0000\n",
            "Epoch 160/200\n",
            "100/100 [==============================] - 0s 274us/step - loss: 0.1544 - acc: 0.9700 - val_loss: 0.1848 - val_acc: 0.9800\n",
            "Epoch 161/200\n",
            "100/100 [==============================] - 0s 336us/step - loss: 0.1528 - acc: 0.9700 - val_loss: 0.1849 - val_acc: 0.9800\n",
            "Epoch 162/200\n",
            "100/100 [==============================] - 0s 281us/step - loss: 0.1525 - acc: 0.9600 - val_loss: 0.1839 - val_acc: 0.9800\n",
            "Epoch 163/200\n",
            "100/100 [==============================] - 0s 243us/step - loss: 0.1517 - acc: 0.9600 - val_loss: 0.1828 - val_acc: 0.9800\n",
            "Epoch 164/200\n",
            "100/100 [==============================] - 0s 242us/step - loss: 0.1504 - acc: 0.9600 - val_loss: 0.1820 - val_acc: 0.9800\n",
            "Epoch 165/200\n",
            "100/100 [==============================] - 0s 247us/step - loss: 0.1493 - acc: 0.9600 - val_loss: 0.1808 - val_acc: 0.9800\n",
            "Epoch 166/200\n",
            "100/100 [==============================] - 0s 270us/step - loss: 0.1494 - acc: 0.9700 - val_loss: 0.1814 - val_acc: 1.0000\n",
            "Epoch 167/200\n",
            "100/100 [==============================] - 0s 314us/step - loss: 0.1482 - acc: 0.9600 - val_loss: 0.1789 - val_acc: 0.9800\n",
            "Epoch 168/200\n",
            "100/100 [==============================] - 0s 250us/step - loss: 0.1483 - acc: 0.9600 - val_loss: 0.1792 - val_acc: 0.9800\n",
            "Epoch 169/200\n",
            "100/100 [==============================] - 0s 269us/step - loss: 0.1465 - acc: 0.9700 - val_loss: 0.1776 - val_acc: 0.9800\n",
            "Epoch 170/200\n",
            "100/100 [==============================] - 0s 254us/step - loss: 0.1462 - acc: 0.9600 - val_loss: 0.1769 - val_acc: 0.9800\n",
            "Epoch 171/200\n",
            "100/100 [==============================] - 0s 256us/step - loss: 0.1454 - acc: 0.9600 - val_loss: 0.1758 - val_acc: 0.9800\n",
            "Epoch 172/200\n",
            "100/100 [==============================] - 0s 301us/step - loss: 0.1463 - acc: 0.9600 - val_loss: 0.1762 - val_acc: 0.9800\n",
            "Epoch 173/200\n",
            "100/100 [==============================] - 0s 257us/step - loss: 0.1436 - acc: 0.9600 - val_loss: 0.1747 - val_acc: 0.9800\n",
            "Epoch 174/200\n",
            "100/100 [==============================] - 0s 259us/step - loss: 0.1434 - acc: 0.9600 - val_loss: 0.1737 - val_acc: 0.9800\n",
            "Epoch 175/200\n",
            "100/100 [==============================] - 0s 246us/step - loss: 0.1423 - acc: 0.9600 - val_loss: 0.1731 - val_acc: 0.9800\n",
            "Epoch 176/200\n",
            "100/100 [==============================] - 0s 258us/step - loss: 0.1422 - acc: 0.9600 - val_loss: 0.1721 - val_acc: 0.9800\n",
            "Epoch 177/200\n",
            "100/100 [==============================] - 0s 270us/step - loss: 0.1422 - acc: 0.9700 - val_loss: 0.1724 - val_acc: 0.9800\n",
            "Epoch 178/200\n",
            "100/100 [==============================] - 0s 269us/step - loss: 0.1424 - acc: 0.9700 - val_loss: 0.1734 - val_acc: 1.0000\n",
            "Epoch 179/200\n",
            "100/100 [==============================] - 0s 259us/step - loss: 0.1403 - acc: 0.9600 - val_loss: 0.1699 - val_acc: 0.9800\n",
            "Epoch 180/200\n",
            "100/100 [==============================] - 0s 256us/step - loss: 0.1402 - acc: 0.9600 - val_loss: 0.1693 - val_acc: 0.9800\n",
            "Epoch 181/200\n",
            "100/100 [==============================] - 0s 262us/step - loss: 0.1394 - acc: 0.9600 - val_loss: 0.1687 - val_acc: 0.9800\n",
            "Epoch 182/200\n",
            "100/100 [==============================] - 0s 319us/step - loss: 0.1383 - acc: 0.9700 - val_loss: 0.1687 - val_acc: 0.9800\n",
            "Epoch 183/200\n",
            "100/100 [==============================] - 0s 287us/step - loss: 0.1378 - acc: 0.9700 - val_loss: 0.1684 - val_acc: 0.9800\n",
            "Epoch 184/200\n",
            "100/100 [==============================] - 0s 261us/step - loss: 0.1371 - acc: 0.9600 - val_loss: 0.1673 - val_acc: 0.9800\n",
            "Epoch 185/200\n",
            "100/100 [==============================] - 0s 255us/step - loss: 0.1361 - acc: 0.9700 - val_loss: 0.1667 - val_acc: 0.9800\n",
            "Epoch 186/200\n",
            "100/100 [==============================] - 0s 245us/step - loss: 0.1357 - acc: 0.9600 - val_loss: 0.1658 - val_acc: 0.9800\n",
            "Epoch 187/200\n",
            "100/100 [==============================] - 0s 259us/step - loss: 0.1354 - acc: 0.9700 - val_loss: 0.1648 - val_acc: 0.9800\n",
            "Epoch 188/200\n",
            "100/100 [==============================] - 0s 265us/step - loss: 0.1345 - acc: 0.9600 - val_loss: 0.1644 - val_acc: 0.9800\n",
            "Epoch 189/200\n",
            "100/100 [==============================] - 0s 257us/step - loss: 0.1375 - acc: 0.9700 - val_loss: 0.1645 - val_acc: 0.9800\n",
            "Epoch 190/200\n",
            "100/100 [==============================] - 0s 263us/step - loss: 0.1328 - acc: 0.9700 - val_loss: 0.1631 - val_acc: 0.9800\n",
            "Epoch 191/200\n",
            "100/100 [==============================] - 0s 336us/step - loss: 0.1328 - acc: 0.9600 - val_loss: 0.1621 - val_acc: 0.9800\n",
            "Epoch 192/200\n",
            "100/100 [==============================] - 0s 248us/step - loss: 0.1324 - acc: 0.9600 - val_loss: 0.1619 - val_acc: 0.9800\n",
            "Epoch 193/200\n",
            "100/100 [==============================] - 0s 262us/step - loss: 0.1326 - acc: 0.9600 - val_loss: 0.1613 - val_acc: 0.9800\n",
            "Epoch 194/200\n",
            "100/100 [==============================] - 0s 301us/step - loss: 0.1317 - acc: 0.9700 - val_loss: 0.1608 - val_acc: 0.9800\n",
            "Epoch 195/200\n",
            "100/100 [==============================] - 0s 251us/step - loss: 0.1304 - acc: 0.9600 - val_loss: 0.1598 - val_acc: 0.9800\n",
            "Epoch 196/200\n",
            "100/100 [==============================] - 0s 253us/step - loss: 0.1306 - acc: 0.9600 - val_loss: 0.1593 - val_acc: 0.9800\n",
            "Epoch 197/200\n",
            "100/100 [==============================] - 0s 309us/step - loss: 0.1300 - acc: 0.9700 - val_loss: 0.1597 - val_acc: 0.9800\n",
            "Epoch 198/200\n",
            "100/100 [==============================] - 0s 265us/step - loss: 0.1291 - acc: 0.9700 - val_loss: 0.1579 - val_acc: 0.9800\n",
            "Epoch 199/200\n",
            "100/100 [==============================] - 0s 272us/step - loss: 0.1309 - acc: 0.9600 - val_loss: 0.1590 - val_acc: 1.0000\n",
            "Epoch 200/200\n",
            "100/100 [==============================] - 0s 263us/step - loss: 0.1288 - acc: 0.9700 - val_loss: 0.1569 - val_acc: 0.9800\n"
          ],
          "name": "stdout"
        }
      ]
    },
    {
      "cell_type": "code",
      "metadata": {
        "id": "BwYPK696zTqu",
        "colab_type": "code",
        "colab": {
          "base_uri": "https://localhost:8080/",
          "height": 621
        },
        "outputId": "5bd9a910-aae5-4715-8efd-0d1dfa7edbca"
      },
      "source": [
        "plot_acc_loss(history)"
      ],
      "execution_count": 15,
      "outputs": [
        {
          "output_type": "display_data",
          "data": {
            "image/png": "[encoded data removed]",
            "text/plain": [
              "<Figure size 720x720 with 2 Axes>"
            ]
          },
          "metadata": {
            "tags": []
          }
        }
      ]
    },
    {
      "cell_type": "markdown",
      "metadata": {
        "id": "vw2wWtw5zTqy",
        "colab_type": "text"
      },
      "source": [
        "### Evaluate the model\n",
        "Now that we have trained our model, we can evaluate the performance on the test data."
      ]
    },
    {
      "cell_type": "code",
      "metadata": {
        "id": "KQtZLcOdzTq0",
        "colab_type": "code",
        "colab": {
          "base_uri": "https://localhost:8080/",
          "height": 85
        },
        "outputId": "55dc963e-8227-494a-b69f-c7b006a3ed54"
      },
      "source": [
        "scores = model.evaluate(X, y_one_hot_encoded)\n",
        "print(\"\\n\\n{0}: {1:.2f}%\".format(model.metrics_names[1], scores[1]*100))"
      ],
      "execution_count": 16,
      "outputs": [
        {
          "output_type": "stream",
          "text": [
            "150/150 [==============================] - 0s 40us/step\n",
            "\n",
            "\n",
            "acc: 96.67%\n"
          ],
          "name": "stdout"
        }
      ]
    },
    {
      "cell_type": "code",
      "metadata": {
        "id": "PEnF0buSzTq4",
        "colab_type": "code",
        "colab": {}
      },
      "source": [
        "y_pred = model.predict_classes(X)"
      ],
      "execution_count": 0,
      "outputs": []
    },
    {
      "cell_type": "code",
      "metadata": {
        "id": "nCgD2TCKzTq8",
        "colab_type": "code",
        "colab": {
          "base_uri": "https://localhost:8080/",
          "height": 68
        },
        "outputId": "f6a487b1-fb3c-4a96-8e27-32e3a160cc5f"
      },
      "source": [
        "matrix = metrics.confusion_matrix(y_encoded, y_pred) # (y_true,y_pred)\n",
        "print(matrix)"
      ],
      "execution_count": 18,
      "outputs": [
        {
          "output_type": "stream",
          "text": [
            "[[50  0  0]\n",
            " [ 0 46  4]\n",
            " [ 0  1 49]]\n"
          ],
          "name": "stdout"
        }
      ]
    },
    {
      "cell_type": "code",
      "metadata": {
        "id": "IhOFX6LUzTrD",
        "colab_type": "code",
        "colab": {
          "base_uri": "https://localhost:8080/",
          "height": 34
        },
        "outputId": "186d9823-b3a6-416e-f9ea-df7c3faefe03"
      },
      "source": [
        "(50+46+49)/(50+46+49+1+4)"
      ],
      "execution_count": 19,
      "outputs": [
        {
          "output_type": "execute_result",
          "data": {
            "text/plain": [
              "0.9666666666666667"
            ]
          },
          "metadata": {
            "tags": []
          },
          "execution_count": 19
        }
      ]
    },
    {
      "cell_type": "code",
      "metadata": {
        "id": "-vC9cL_a0FJU",
        "colab_type": "code",
        "colab": {}
      },
      "source": [
        ""
      ],
      "execution_count": 0,
      "outputs": []
    }
  ]
}