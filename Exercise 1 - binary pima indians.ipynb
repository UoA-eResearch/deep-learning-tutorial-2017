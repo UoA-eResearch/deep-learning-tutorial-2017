{
 "cells": [
  {
   "cell_type": "markdown",
   "metadata": {},
   "source": [
    "## Exercise 1: Pima Indians Diabetes\n",
    "In this exercise we will create a neural network to predict the onset of diabetes mellitus in [Pima Indians](https://en.wikipedia.org/wiki/Pima_people), a high risk population who live in southern Arizona.\n",
    "\n",
    "This type of supervised learning is called binary classification, because our desired output consists into one of two groups.\n",
    "\n",
    "There are 7 main steps when creating a deep learning model using Keras:\n",
    "\n",
    "1. Import dependencies\n",
    "2. Set seed\n",
    "3. Import data\n",
    "4. Create model\n",
    "5. Compile model \n",
    "6. Fit model\n",
    "7. Evaluate model"
   ]
  },
  {
   "cell_type": "markdown",
   "metadata": {},
   "source": [
    "### Import dependencies\n",
    "Start by importing the dependencies we will need for the project"
   ]
  },
  {
   "cell_type": "code",
   "execution_count": 1,
   "metadata": {},
   "outputs": [
    {
     "name": "stderr",
     "output_type": "stream",
     "text": [
      "Using TensorFlow backend.\n"
     ]
    }
   ],
   "source": [
    "from keras.models import Sequential\n",
    "from keras.layers import Dense\n",
    "import numpy as np\n",
    "from sklearn.model_selection import train_test_split\n",
    "from uoa_mlaas import use_cpu\n",
    "use_cpu()"
   ]
  },
  {
   "cell_type": "markdown",
   "metadata": {},
   "source": [
    "### Set seed\n",
    "Set a seed value so that when we repeatedly run our code we will get the same result. Using the same seed is important when you want to compare algorithms."
   ]
  },
  {
   "cell_type": "code",
   "execution_count": 2,
   "metadata": {
    "collapsed": true
   },
   "outputs": [],
   "source": [
    "seed = 7\n",
    "np.random.seed(seed)"
   ]
  },
  {
   "cell_type": "markdown",
   "metadata": {},
   "source": [
    "### Import data\n",
    "The Pima Indians Diabetes dataset contains 9 features and 768 samples, including whether the subject developed diabetes mellitus within 5 years of the examination (or if it didn't develop). The features in the dataset are described below.\n",
    "\n",
    "* P: Number of times pregnant \n",
    "* PG: Plasma glucose concentration a 2 hours in an oral glucose tolerance test \n",
    "* DIA: Diastolic blood pressure (mm Hg) \n",
    "* SF: Triceps skin fold thickness (mm) \n",
    "* INS: 2-Hour serum insulin (mu U/ml) \n",
    "* BMI: Body mass index (weight in kg/(height in m)^2) \n",
    "* DP: Diabetes pedigree function \n",
    "* Age: (years) \n",
    "* Class: whether the subject developed diabetes more than 5 years from examination (0 - diabetes free or 1 - diabetes)\n",
    "\n",
    "|P|PG|DIA|SF|INS|BMI|DP|Age|Class|\n",
    "|--|--|--|--|--|--|--|--|--|\n",
    "|6|148|72|35|0|33.6|0.627|50|1|\n",
    "|1|85|66|29|0|26.6|0.351|31|0|\n",
    "|8|183|64|0|0|23.3|0.672|32|1|\n",
    "|1|89|66|23|94|28.1|0.167|21|0|\n",
    "|0|137|40|35|168|43.1|2.288|33|1|\n",
    "|5|116|74|0|0|25.6|0.201|30|0|\n",
    "\n",
    "To load this data into memory, use the `np.loadtxt` function."
   ]
  },
  {
   "cell_type": "code",
   "execution_count": 3,
   "metadata": {},
   "outputs": [
    {
     "name": "stdout",
     "output_type": "stream",
     "text": [
      "[[   6.     148.      72.    ...,    0.627   50.       1.   ]\n",
      " [   1.      85.      66.    ...,    0.351   31.       0.   ]\n",
      " [   8.     183.      64.    ...,    0.672   32.       1.   ]\n",
      " ..., \n",
      " [   5.     121.      72.    ...,    0.245   30.       0.   ]\n",
      " [   1.     126.      60.    ...,    0.349   47.       1.   ]\n",
      " [   1.      93.      70.    ...,    0.315   23.       0.   ]]\n"
     ]
    }
   ],
   "source": [
    "data = np.loadtxt(\"data/pima.csv\", delimiter=\",\")\n",
    "print(data)"
   ]
  },
  {
   "cell_type": "markdown",
   "metadata": {},
   "source": [
    "Separate the data into input (X) and output (y) variables."
   ]
  },
  {
   "cell_type": "code",
   "execution_count": 4,
   "metadata": {},
   "outputs": [
    {
     "name": "stdout",
     "output_type": "stream",
     "text": [
      "[   6.     148.      72.      35.       0.      33.6      0.627   50.   ]\n",
      "1.0\n"
     ]
    }
   ],
   "source": [
    "X = data[:, 0:8]\n",
    "print(X[0])\n",
    "y = data[:, 8]\n",
    "print(y[0])"
   ]
  },
  {
   "cell_type": "markdown",
   "metadata": {},
   "source": [
    "Use the `train_test_split` function from scikit-learn to split the input and target data into training and test datasets. A `test_size` of 0.33 is used and the `random_state` is set to our seed so that we get the same results."
   ]
  },
  {
   "cell_type": "code",
   "execution_count": 5,
   "metadata": {
    "collapsed": true
   },
   "outputs": [],
   "source": [
    "X_train, X_test, y_train, y_test = train_test_split(X, y, test_size=0.33, random_state=seed)"
   ]
  },
  {
   "cell_type": "markdown",
   "metadata": {},
   "source": [
    "### Create the model\n",
    "The code snippet below creates a very basic neural network model, with three layers: an input layer, a hidden layer and an output layer.\n",
    "\n",
    "We start by instantiating a `Sequential` model, onto which we add a number of layers.\n",
    "\n",
    "The first layer is a fully connected neural network layer, defined by the `Dense` class. The first `Dense` layer added to a `Sequential` model actually acts as two layers: the input layer and the first hidden layer.\n",
    "\n",
    "The activation function (`activation` parameter) determines the output of a neuron given certain inputs. We use the [Rectifier activation function](https://en.wikipedia.org/wiki/Rectifier_(neural_networks)) (`relu`) within the network because it has good performance.\n",
    "\n",
    "The first argument in the `Dense` class is the number of neurons in the layer. In the first layer we set this value to 12, which becomes 12 neurons in the hidden layer (choosing a good value for this variable requires trial and error). Our input data set has 8 features, so we set the `input_dim` variable to 8, which creates 8 input neurons, one for each feature.\n",
    "\n",
    "The last layer is specified by adding a `Dense` layer with 1 neuron. The number of neurons in the output layer always equals the number of outputs you are predicting. In this case we are estimating one output, whether the subject developed diabetes or not, so we set it to 1. The activation function on the last layer is a [Sigmoid activation function](https://en.wikipedia.org/wiki/Sigmoid_function) (`sigmoid`) because we want to guarantee that the output will be between 0 and 1."
   ]
  },
  {
   "cell_type": "code",
   "execution_count": 6,
   "metadata": {
    "collapsed": true
   },
   "outputs": [],
   "source": [
    "model = Sequential()\n",
    "model.add(Dense(12, input_dim=8, activation='relu', kernel_initializer='normal'))\n",
    "model.add(Dense(1, activation='sigmoid', kernel_initializer='normal'))"
   ]
  },
  {
   "cell_type": "markdown",
   "metadata": {},
   "source": [
    "### Compile the model\n",
    "The next step is to compile the model, by calling the `compile` function. \n",
    "\n",
    "The compilation process uses TensorFlow to create a network that can be trained and used to make predictions. Training involves finding weights that can make accurate predictions based on the input data. \n",
    "\n",
    "During each iteration of training, the network produces a result, and to check the error, a `loss function` is used to evaluate the effectivness of the neuron weights. This is specified through the `loss` parameter. In this example we use the `binary_crossentropy` loss function, because we are using regression.\n",
    "\n",
    "How loss functions work is outside the scope of this tutorial, however, you can view the available loss functions in the Keras documentation [here](https://keras.io/losses/).\n",
    "\n",
    "The last parameter is the `optimizer`, which is the algorithm that actually tries to minimise the error by adjusting the weights in the neural network. The `adam` optimiser uses the [gradient descent algorithm](https://en.wikipedia.org/wiki/Gradient_descent) and is often an efficient choice.\n",
    "\n",
    "How these algorithms work is also out of scope of the tutorial, however, you can view the available optimizers in the Keras documentation [here](https://keras.io/optimizers/)."
   ]
  },
  {
   "cell_type": "code",
   "execution_count": 7,
   "metadata": {
    "collapsed": true
   },
   "outputs": [],
   "source": [
    "model.compile(loss='binary_crossentropy', optimizer='adam', metrics=['accuracy'])"
   ]
  },
  {
   "cell_type": "markdown",
   "metadata": {},
   "source": [
    "### Fit the model\n",
    "Now that we have compiled the model, we can train it with the data we prepared earlier. The data to train with is specified with the first two parameters: `X_train` (input) and `y_train` (target). The data the fit function will validate the training data with is specified with the `validation_data` parameter.\n",
    "\n",
    "The number of iterations that we will train the model for is specified with the `epochs` parameter. The `batch_size` specifies the number of training samples that are evaluated before the weights are updated in the network. Trial and error is the usual method for working out good values for the `epochs` and `batch_size`.\n",
    "\n",
    "Sample output from the fit function is illustrated below. The output displays the average loss and accuracy of the training (loss, acc) and test dataset (val_loss, val_acc) for each epoch.\n",
    "\n",
    "```\n",
    "Train on 768 samples, validate on 254 samples\n",
    "Epoch 1/150\n",
    "768/768 [============] - 0s - loss: 5.1268 - acc: 0.6302 - val_loss: 4.9765 - val_acc: 0.6378\n",
    "Epoch 2/150\n",
    "768/768 [============] - 0s - loss: 4.9509 - acc: 0.6354 - val_loss: 4.8132 - val_acc: 0.6339\n",
    "Epoch 3/150\n",
    "```"
   ]
  },
  {
   "cell_type": "code",
   "execution_count": 8,
   "metadata": {
    "scrolled": false
   },
   "outputs": [
    {
     "name": "stdout",
     "output_type": "stream",
     "text": [
      "Train on 514 samples, validate on 254 samples\n",
      "Epoch 1/150\n",
      "514/514 [==============================] - 0s - loss: 0.6768 - acc: 0.6498 - val_loss: 0.6706 - val_acc: 0.6496\n",
      "Epoch 2/150\n",
      "514/514 [==============================] - 0s - loss: 0.6595 - acc: 0.6556 - val_loss: 0.6604 - val_acc: 0.6457\n",
      "Epoch 3/150\n",
      "514/514 [==============================] - 0s - loss: 0.6529 - acc: 0.6576 - val_loss: 0.6551 - val_acc: 0.6535\n",
      "Epoch 4/150\n",
      "514/514 [==============================] - 0s - loss: 0.6470 - acc: 0.6693 - val_loss: 0.6523 - val_acc: 0.6378\n",
      "Epoch 5/150\n",
      "514/514 [==============================] - 0s - loss: 0.6411 - acc: 0.6595 - val_loss: 0.6441 - val_acc: 0.6378\n",
      "Epoch 6/150\n",
      "514/514 [==============================] - 0s - loss: 0.6291 - acc: 0.6654 - val_loss: 0.6375 - val_acc: 0.6339\n",
      "Epoch 7/150\n",
      "514/514 [==============================] - 0s - loss: 0.6288 - acc: 0.6770 - val_loss: 0.6386 - val_acc: 0.6496\n",
      "Epoch 8/150\n",
      "514/514 [==============================] - 0s - loss: 0.6217 - acc: 0.6673 - val_loss: 0.6321 - val_acc: 0.6535\n",
      "Epoch 9/150\n",
      "514/514 [==============================] - 0s - loss: 0.6184 - acc: 0.6790 - val_loss: 0.6293 - val_acc: 0.6693\n",
      "Epoch 10/150\n",
      "514/514 [==============================] - 0s - loss: 0.6047 - acc: 0.7101 - val_loss: 0.6341 - val_acc: 0.6457\n",
      "Epoch 11/150\n",
      "514/514 [==============================] - 0s - loss: 0.6044 - acc: 0.6946 - val_loss: 0.6171 - val_acc: 0.6772\n",
      "Epoch 12/150\n",
      "514/514 [==============================] - 0s - loss: 0.5982 - acc: 0.7062 - val_loss: 0.6099 - val_acc: 0.6732\n",
      "Epoch 13/150\n",
      "514/514 [==============================] - 0s - loss: 0.5968 - acc: 0.7082 - val_loss: 0.6073 - val_acc: 0.6772\n",
      "Epoch 14/150\n",
      "514/514 [==============================] - 0s - loss: 0.5898 - acc: 0.6984 - val_loss: 0.6001 - val_acc: 0.6772\n",
      "Epoch 15/150\n",
      "514/514 [==============================] - 0s - loss: 0.5851 - acc: 0.7101 - val_loss: 0.6007 - val_acc: 0.7165\n",
      "Epoch 16/150\n",
      "514/514 [==============================] - 0s - loss: 0.5777 - acc: 0.7082 - val_loss: 0.5991 - val_acc: 0.6850\n",
      "Epoch 17/150\n",
      "514/514 [==============================] - 0s - loss: 0.5750 - acc: 0.7179 - val_loss: 0.5998 - val_acc: 0.6850\n",
      "Epoch 18/150\n",
      "514/514 [==============================] - 0s - loss: 0.5732 - acc: 0.7082 - val_loss: 0.5970 - val_acc: 0.7047\n",
      "Epoch 19/150\n",
      "514/514 [==============================] - 0s - loss: 0.5673 - acc: 0.7179 - val_loss: 0.6038 - val_acc: 0.6654\n",
      "Epoch 20/150\n",
      "514/514 [==============================] - 0s - loss: 0.5770 - acc: 0.7082 - val_loss: 0.5906 - val_acc: 0.7165\n",
      "Epoch 21/150\n",
      "514/514 [==============================] - 0s - loss: 0.5656 - acc: 0.7237 - val_loss: 0.5925 - val_acc: 0.6929\n",
      "Epoch 22/150\n",
      "514/514 [==============================] - 0s - loss: 0.5614 - acc: 0.7082 - val_loss: 0.6047 - val_acc: 0.6693\n",
      "Epoch 23/150\n",
      "514/514 [==============================] - 0s - loss: 0.5686 - acc: 0.7198 - val_loss: 0.5831 - val_acc: 0.7205\n",
      "Epoch 24/150\n",
      "514/514 [==============================] - 0s - loss: 0.5586 - acc: 0.7121 - val_loss: 0.5885 - val_acc: 0.7087\n",
      "Epoch 25/150\n",
      "514/514 [==============================] - 0s - loss: 0.5622 - acc: 0.7160 - val_loss: 0.5927 - val_acc: 0.6772\n",
      "Epoch 26/150\n",
      "514/514 [==============================] - 0s - loss: 0.5592 - acc: 0.7315 - val_loss: 0.5802 - val_acc: 0.7244\n",
      "Epoch 27/150\n",
      "514/514 [==============================] - 0s - loss: 0.5625 - acc: 0.7315 - val_loss: 0.5871 - val_acc: 0.7047\n",
      "Epoch 28/150\n",
      "514/514 [==============================] - 0s - loss: 0.5600 - acc: 0.7121 - val_loss: 0.5882 - val_acc: 0.7205\n",
      "Epoch 29/150\n",
      "514/514 [==============================] - 0s - loss: 0.5530 - acc: 0.7121 - val_loss: 0.5795 - val_acc: 0.7087\n",
      "Epoch 30/150\n",
      "514/514 [==============================] - 0s - loss: 0.5558 - acc: 0.7257 - val_loss: 0.5799 - val_acc: 0.7165\n",
      "Epoch 31/150\n",
      "514/514 [==============================] - 0s - loss: 0.5471 - acc: 0.7315 - val_loss: 0.6032 - val_acc: 0.6811\n",
      "Epoch 32/150\n",
      "514/514 [==============================] - 0s - loss: 0.5496 - acc: 0.7140 - val_loss: 0.5849 - val_acc: 0.7047\n",
      "Epoch 33/150\n",
      "514/514 [==============================] - 0s - loss: 0.5499 - acc: 0.7315 - val_loss: 0.5768 - val_acc: 0.7165\n",
      "Epoch 34/150\n",
      "514/514 [==============================] - 0s - loss: 0.5499 - acc: 0.7160 - val_loss: 0.5851 - val_acc: 0.7047\n",
      "Epoch 35/150\n",
      "514/514 [==============================] - 0s - loss: 0.5541 - acc: 0.7276 - val_loss: 0.5713 - val_acc: 0.7283\n",
      "Epoch 36/150\n",
      "514/514 [==============================] - 0s - loss: 0.5427 - acc: 0.7237 - val_loss: 0.5736 - val_acc: 0.7126\n",
      "Epoch 37/150\n",
      "514/514 [==============================] - 0s - loss: 0.5523 - acc: 0.7315 - val_loss: 0.5757 - val_acc: 0.7087\n",
      "Epoch 38/150\n",
      "514/514 [==============================] - 0s - loss: 0.5428 - acc: 0.7198 - val_loss: 0.5739 - val_acc: 0.7087\n",
      "Epoch 39/150\n",
      "514/514 [==============================] - 0s - loss: 0.5420 - acc: 0.7296 - val_loss: 0.5772 - val_acc: 0.7087\n",
      "Epoch 40/150\n",
      "514/514 [==============================] - 0s - loss: 0.5469 - acc: 0.7179 - val_loss: 0.5758 - val_acc: 0.7126\n",
      "Epoch 41/150\n",
      "514/514 [==============================] - 0s - loss: 0.5406 - acc: 0.7315 - val_loss: 0.5763 - val_acc: 0.7126\n",
      "Epoch 42/150\n",
      "514/514 [==============================] - 0s - loss: 0.5458 - acc: 0.7160 - val_loss: 0.5731 - val_acc: 0.7244\n",
      "Epoch 43/150\n",
      "514/514 [==============================] - 0s - loss: 0.5396 - acc: 0.7257 - val_loss: 0.5721 - val_acc: 0.7244\n",
      "Epoch 44/150\n",
      "514/514 [==============================] - 0s - loss: 0.5444 - acc: 0.7296 - val_loss: 0.5742 - val_acc: 0.7205\n",
      "Epoch 45/150\n",
      "514/514 [==============================] - 0s - loss: 0.5408 - acc: 0.7296 - val_loss: 0.5740 - val_acc: 0.7244\n",
      "Epoch 46/150\n",
      "514/514 [==============================] - 0s - loss: 0.5415 - acc: 0.7257 - val_loss: 0.5827 - val_acc: 0.7283\n",
      "Epoch 47/150\n",
      "514/514 [==============================] - 0s - loss: 0.5510 - acc: 0.7198 - val_loss: 0.5832 - val_acc: 0.7008\n",
      "Epoch 48/150\n",
      "514/514 [==============================] - 0s - loss: 0.5370 - acc: 0.7296 - val_loss: 0.5773 - val_acc: 0.7165\n",
      "Epoch 49/150\n",
      "514/514 [==============================] - 0s - loss: 0.5339 - acc: 0.7296 - val_loss: 0.5714 - val_acc: 0.7323\n",
      "Epoch 50/150\n",
      "514/514 [==============================] - 0s - loss: 0.5332 - acc: 0.7315 - val_loss: 0.5892 - val_acc: 0.7087\n",
      "Epoch 51/150\n",
      "514/514 [==============================] - 0s - loss: 0.5372 - acc: 0.7296 - val_loss: 0.5759 - val_acc: 0.7008\n",
      "Epoch 52/150\n",
      "514/514 [==============================] - 0s - loss: 0.5341 - acc: 0.7354 - val_loss: 0.5749 - val_acc: 0.7244\n",
      "Epoch 53/150\n",
      "514/514 [==============================] - 0s - loss: 0.5351 - acc: 0.7296 - val_loss: 0.5721 - val_acc: 0.7323\n",
      "Epoch 54/150\n",
      "514/514 [==============================] - 0s - loss: 0.5360 - acc: 0.7354 - val_loss: 0.5711 - val_acc: 0.7205\n",
      "Epoch 55/150\n",
      "514/514 [==============================] - 0s - loss: 0.5397 - acc: 0.7335 - val_loss: 0.5706 - val_acc: 0.7283\n",
      "Epoch 56/150\n",
      "514/514 [==============================] - 0s - loss: 0.5318 - acc: 0.7198 - val_loss: 0.6024 - val_acc: 0.6890\n",
      "Epoch 57/150\n",
      "514/514 [==============================] - 0s - loss: 0.5458 - acc: 0.7198 - val_loss: 0.5729 - val_acc: 0.7205\n",
      "Epoch 58/150\n",
      "514/514 [==============================] - 0s - loss: 0.5332 - acc: 0.7335 - val_loss: 0.5699 - val_acc: 0.7244\n",
      "Epoch 59/150\n",
      "514/514 [==============================] - 0s - loss: 0.5355 - acc: 0.7296 - val_loss: 0.5810 - val_acc: 0.7165\n",
      "Epoch 60/150\n",
      "514/514 [==============================] - 0s - loss: 0.5325 - acc: 0.7374 - val_loss: 0.5721 - val_acc: 0.7244\n",
      "Epoch 61/150\n",
      "514/514 [==============================] - 0s - loss: 0.5316 - acc: 0.7393 - val_loss: 0.5695 - val_acc: 0.7441\n",
      "Epoch 62/150\n",
      "514/514 [==============================] - 0s - loss: 0.5274 - acc: 0.7276 - val_loss: 0.5699 - val_acc: 0.7244\n",
      "Epoch 63/150\n",
      "514/514 [==============================] - 0s - loss: 0.5351 - acc: 0.7276 - val_loss: 0.5672 - val_acc: 0.7402\n",
      "Epoch 64/150\n",
      "514/514 [==============================] - 0s - loss: 0.5332 - acc: 0.7374 - val_loss: 0.5666 - val_acc: 0.7362\n",
      "Epoch 65/150\n",
      "514/514 [==============================] - 0s - loss: 0.5303 - acc: 0.7257 - val_loss: 0.5673 - val_acc: 0.7205\n",
      "Epoch 66/150\n"
     ]
    },
    {
     "name": "stdout",
     "output_type": "stream",
     "text": [
      "514/514 [==============================] - 0s - loss: 0.5253 - acc: 0.7451 - val_loss: 0.5703 - val_acc: 0.7323\n",
      "Epoch 67/150\n",
      "514/514 [==============================] - 0s - loss: 0.5236 - acc: 0.7374 - val_loss: 0.5731 - val_acc: 0.7362\n",
      "Epoch 68/150\n",
      "514/514 [==============================] - 0s - loss: 0.5278 - acc: 0.7412 - val_loss: 0.5806 - val_acc: 0.7205\n",
      "Epoch 69/150\n",
      "514/514 [==============================] - 0s - loss: 0.5264 - acc: 0.7451 - val_loss: 0.5870 - val_acc: 0.7244\n",
      "Epoch 70/150\n",
      "514/514 [==============================] - 0s - loss: 0.5360 - acc: 0.7354 - val_loss: 0.5694 - val_acc: 0.7244\n",
      "Epoch 71/150\n",
      "514/514 [==============================] - 0s - loss: 0.5272 - acc: 0.7393 - val_loss: 0.5704 - val_acc: 0.7283\n",
      "Epoch 72/150\n",
      "514/514 [==============================] - 0s - loss: 0.5245 - acc: 0.7374 - val_loss: 0.5768 - val_acc: 0.7441\n",
      "Epoch 73/150\n",
      "514/514 [==============================] - 0s - loss: 0.5272 - acc: 0.7354 - val_loss: 0.5682 - val_acc: 0.7441\n",
      "Epoch 74/150\n",
      "514/514 [==============================] - 0s - loss: 0.5211 - acc: 0.7393 - val_loss: 0.5853 - val_acc: 0.7008\n",
      "Epoch 75/150\n",
      "514/514 [==============================] - 0s - loss: 0.5271 - acc: 0.7432 - val_loss: 0.5738 - val_acc: 0.7598\n",
      "Epoch 76/150\n",
      "514/514 [==============================] - 0s - loss: 0.5243 - acc: 0.7160 - val_loss: 0.5670 - val_acc: 0.7362\n",
      "Epoch 77/150\n",
      "514/514 [==============================] - 0s - loss: 0.5208 - acc: 0.7374 - val_loss: 0.5701 - val_acc: 0.7402\n",
      "Epoch 78/150\n",
      "514/514 [==============================] - 0s - loss: 0.5216 - acc: 0.7412 - val_loss: 0.5723 - val_acc: 0.7244\n",
      "Epoch 79/150\n",
      "514/514 [==============================] - 0s - loss: 0.5279 - acc: 0.7393 - val_loss: 0.5665 - val_acc: 0.7323\n",
      "Epoch 80/150\n",
      "514/514 [==============================] - 0s - loss: 0.5196 - acc: 0.7412 - val_loss: 0.6035 - val_acc: 0.7008\n",
      "Epoch 81/150\n",
      "514/514 [==============================] - 0s - loss: 0.5271 - acc: 0.7393 - val_loss: 0.5698 - val_acc: 0.7244\n",
      "Epoch 82/150\n",
      "514/514 [==============================] - 0s - loss: 0.5269 - acc: 0.7335 - val_loss: 0.5710 - val_acc: 0.7283\n",
      "Epoch 83/150\n",
      "514/514 [==============================] - 0s - loss: 0.5163 - acc: 0.7451 - val_loss: 0.5699 - val_acc: 0.7283\n",
      "Epoch 84/150\n",
      "514/514 [==============================] - 0s - loss: 0.5223 - acc: 0.7374 - val_loss: 0.5687 - val_acc: 0.7165\n",
      "Epoch 85/150\n",
      "514/514 [==============================] - 0s - loss: 0.5149 - acc: 0.7451 - val_loss: 0.5679 - val_acc: 0.7323\n",
      "Epoch 86/150\n",
      "514/514 [==============================] - 0s - loss: 0.5278 - acc: 0.7335 - val_loss: 0.5766 - val_acc: 0.7165\n",
      "Epoch 87/150\n",
      "514/514 [==============================] - 0s - loss: 0.5179 - acc: 0.7412 - val_loss: 0.5799 - val_acc: 0.7126\n",
      "Epoch 88/150\n",
      "514/514 [==============================] - 0s - loss: 0.5229 - acc: 0.7335 - val_loss: 0.5734 - val_acc: 0.7126\n",
      "Epoch 89/150\n",
      "514/514 [==============================] - 0s - loss: 0.5274 - acc: 0.7296 - val_loss: 0.5717 - val_acc: 0.7323\n",
      "Epoch 90/150\n",
      "514/514 [==============================] - 0s - loss: 0.5160 - acc: 0.7451 - val_loss: 0.5670 - val_acc: 0.7205\n",
      "Epoch 91/150\n",
      "514/514 [==============================] - 0s - loss: 0.5187 - acc: 0.7432 - val_loss: 0.5708 - val_acc: 0.7441\n",
      "Epoch 92/150\n",
      "514/514 [==============================] - 0s - loss: 0.5228 - acc: 0.7374 - val_loss: 0.5662 - val_acc: 0.7323\n",
      "Epoch 93/150\n",
      "514/514 [==============================] - 0s - loss: 0.5194 - acc: 0.7374 - val_loss: 0.5715 - val_acc: 0.7480\n",
      "Epoch 94/150\n",
      "514/514 [==============================] - 0s - loss: 0.5184 - acc: 0.7451 - val_loss: 0.5676 - val_acc: 0.7402\n",
      "Epoch 95/150\n",
      "514/514 [==============================] - 0s - loss: 0.5219 - acc: 0.7374 - val_loss: 0.5773 - val_acc: 0.7126\n",
      "Epoch 96/150\n",
      "514/514 [==============================] - 0s - loss: 0.5192 - acc: 0.7490 - val_loss: 0.5716 - val_acc: 0.7087\n",
      "Epoch 97/150\n",
      "514/514 [==============================] - 0s - loss: 0.5152 - acc: 0.7529 - val_loss: 0.5666 - val_acc: 0.7205\n",
      "Epoch 98/150\n",
      "514/514 [==============================] - 0s - loss: 0.5116 - acc: 0.7549 - val_loss: 0.5670 - val_acc: 0.7283\n",
      "Epoch 99/150\n",
      "514/514 [==============================] - 0s - loss: 0.5164 - acc: 0.7490 - val_loss: 0.5691 - val_acc: 0.7205\n",
      "Epoch 100/150\n",
      "514/514 [==============================] - 0s - loss: 0.5146 - acc: 0.7471 - val_loss: 0.5623 - val_acc: 0.7362\n",
      "Epoch 101/150\n",
      "514/514 [==============================] - 0s - loss: 0.5140 - acc: 0.7471 - val_loss: 0.5735 - val_acc: 0.7126\n",
      "Epoch 102/150\n",
      "514/514 [==============================] - 0s - loss: 0.5138 - acc: 0.7626 - val_loss: 0.5706 - val_acc: 0.7126\n",
      "Epoch 103/150\n",
      "514/514 [==============================] - 0s - loss: 0.5221 - acc: 0.7315 - val_loss: 0.5639 - val_acc: 0.7441\n",
      "Epoch 104/150\n",
      "514/514 [==============================] - 0s - loss: 0.5153 - acc: 0.7393 - val_loss: 0.5635 - val_acc: 0.7402\n",
      "Epoch 105/150\n",
      "514/514 [==============================] - 0s - loss: 0.5156 - acc: 0.7451 - val_loss: 0.5701 - val_acc: 0.7402\n",
      "Epoch 106/150\n",
      "514/514 [==============================] - 0s - loss: 0.5088 - acc: 0.7588 - val_loss: 0.5684 - val_acc: 0.7165\n",
      "Epoch 107/150\n",
      "514/514 [==============================] - 0s - loss: 0.5173 - acc: 0.7549 - val_loss: 0.5626 - val_acc: 0.7323\n",
      "Epoch 108/150\n",
      "514/514 [==============================] - 0s - loss: 0.5145 - acc: 0.7432 - val_loss: 0.5712 - val_acc: 0.7205\n",
      "Epoch 109/150\n",
      "514/514 [==============================] - 0s - loss: 0.5133 - acc: 0.7549 - val_loss: 0.5631 - val_acc: 0.7402\n",
      "Epoch 110/150\n",
      "514/514 [==============================] - 0s - loss: 0.5186 - acc: 0.7393 - val_loss: 0.5644 - val_acc: 0.7441\n",
      "Epoch 111/150\n",
      "514/514 [==============================] - 0s - loss: 0.5099 - acc: 0.7335 - val_loss: 0.6050 - val_acc: 0.7205\n",
      "Epoch 112/150\n",
      "514/514 [==============================] - 0s - loss: 0.5076 - acc: 0.7510 - val_loss: 0.5652 - val_acc: 0.7480\n",
      "Epoch 113/150\n",
      "514/514 [==============================] - 0s - loss: 0.5083 - acc: 0.7374 - val_loss: 0.5805 - val_acc: 0.7087\n",
      "Epoch 114/150\n",
      "514/514 [==============================] - 0s - loss: 0.5103 - acc: 0.7510 - val_loss: 0.5866 - val_acc: 0.6969\n",
      "Epoch 115/150\n",
      "514/514 [==============================] - 0s - loss: 0.5257 - acc: 0.7451 - val_loss: 0.5811 - val_acc: 0.6969\n",
      "Epoch 116/150\n",
      "514/514 [==============================] - 0s - loss: 0.5124 - acc: 0.7335 - val_loss: 0.5776 - val_acc: 0.7047\n",
      "Epoch 117/150\n",
      "514/514 [==============================] - 0s - loss: 0.5105 - acc: 0.7374 - val_loss: 0.5631 - val_acc: 0.7362\n",
      "Epoch 118/150\n",
      "514/514 [==============================] - 0s - loss: 0.5104 - acc: 0.7471 - val_loss: 0.5654 - val_acc: 0.7402\n",
      "Epoch 119/150\n",
      "514/514 [==============================] - 0s - loss: 0.5047 - acc: 0.7451 - val_loss: 0.5614 - val_acc: 0.7402\n",
      "Epoch 120/150\n",
      "514/514 [==============================] - 0s - loss: 0.5154 - acc: 0.7471 - val_loss: 0.5663 - val_acc: 0.7480\n",
      "Epoch 121/150\n",
      "514/514 [==============================] - 0s - loss: 0.5086 - acc: 0.7529 - val_loss: 0.5626 - val_acc: 0.7323\n",
      "Epoch 122/150\n",
      "514/514 [==============================] - 0s - loss: 0.5077 - acc: 0.7432 - val_loss: 0.5663 - val_acc: 0.7362\n",
      "Epoch 123/150\n",
      "514/514 [==============================] - 0s - loss: 0.5152 - acc: 0.7432 - val_loss: 0.5728 - val_acc: 0.7205\n",
      "Epoch 124/150\n",
      "514/514 [==============================] - 0s - loss: 0.5061 - acc: 0.7529 - val_loss: 0.5608 - val_acc: 0.7244\n",
      "Epoch 125/150\n",
      "514/514 [==============================] - 0s - loss: 0.5060 - acc: 0.7568 - val_loss: 0.5613 - val_acc: 0.7441\n",
      "Epoch 126/150\n",
      "514/514 [==============================] - 0s - loss: 0.5039 - acc: 0.7607 - val_loss: 0.5837 - val_acc: 0.7087\n",
      "Epoch 127/150\n",
      "514/514 [==============================] - 0s - loss: 0.5088 - acc: 0.7393 - val_loss: 0.5726 - val_acc: 0.7126\n",
      "Epoch 128/150\n",
      "514/514 [==============================] - 0s - loss: 0.5075 - acc: 0.7529 - val_loss: 0.5625 - val_acc: 0.7362\n",
      "Epoch 129/150\n",
      "514/514 [==============================] - 0s - loss: 0.5211 - acc: 0.7490 - val_loss: 0.5631 - val_acc: 0.7362\n",
      "Epoch 130/150\n",
      "514/514 [==============================] - 0s - loss: 0.5139 - acc: 0.7451 - val_loss: 0.5667 - val_acc: 0.7205\n",
      "Epoch 131/150\n"
     ]
    },
    {
     "name": "stdout",
     "output_type": "stream",
     "text": [
      "514/514 [==============================] - 0s - loss: 0.5072 - acc: 0.7568 - val_loss: 0.5628 - val_acc: 0.7402\n",
      "Epoch 132/150\n",
      "514/514 [==============================] - 0s - loss: 0.5070 - acc: 0.7315 - val_loss: 0.5636 - val_acc: 0.7441\n",
      "Epoch 133/150\n",
      "514/514 [==============================] - 0s - loss: 0.5049 - acc: 0.7510 - val_loss: 0.5621 - val_acc: 0.7480\n",
      "Epoch 134/150\n",
      "514/514 [==============================] - 0s - loss: 0.5025 - acc: 0.7432 - val_loss: 0.5689 - val_acc: 0.7323\n",
      "Epoch 135/150\n",
      "514/514 [==============================] - 0s - loss: 0.5110 - acc: 0.7529 - val_loss: 0.5622 - val_acc: 0.7362\n",
      "Epoch 136/150\n",
      "514/514 [==============================] - 0s - loss: 0.5036 - acc: 0.7432 - val_loss: 0.5608 - val_acc: 0.7402\n",
      "Epoch 137/150\n",
      "514/514 [==============================] - 0s - loss: 0.5008 - acc: 0.7549 - val_loss: 0.5596 - val_acc: 0.7441\n",
      "Epoch 138/150\n",
      "514/514 [==============================] - 0s - loss: 0.5061 - acc: 0.7549 - val_loss: 0.5725 - val_acc: 0.7559\n",
      "Epoch 139/150\n",
      "514/514 [==============================] - 0s - loss: 0.5075 - acc: 0.7510 - val_loss: 0.5676 - val_acc: 0.7362\n",
      "Epoch 140/150\n",
      "514/514 [==============================] - 0s - loss: 0.5043 - acc: 0.7568 - val_loss: 0.5682 - val_acc: 0.7362\n",
      "Epoch 141/150\n",
      "514/514 [==============================] - 0s - loss: 0.5080 - acc: 0.7490 - val_loss: 0.5652 - val_acc: 0.7441\n",
      "Epoch 142/150\n",
      "514/514 [==============================] - 0s - loss: 0.5028 - acc: 0.7529 - val_loss: 0.5602 - val_acc: 0.7362\n",
      "Epoch 143/150\n",
      "514/514 [==============================] - 0s - loss: 0.5000 - acc: 0.7490 - val_loss: 0.5610 - val_acc: 0.7559\n",
      "Epoch 144/150\n",
      "514/514 [==============================] - 0s - loss: 0.5125 - acc: 0.7432 - val_loss: 0.5666 - val_acc: 0.7323\n",
      "Epoch 145/150\n",
      "514/514 [==============================] - 0s - loss: 0.5021 - acc: 0.7646 - val_loss: 0.5595 - val_acc: 0.7323\n",
      "Epoch 146/150\n",
      "514/514 [==============================] - 0s - loss: 0.4995 - acc: 0.7568 - val_loss: 0.5600 - val_acc: 0.7362\n",
      "Epoch 147/150\n",
      "514/514 [==============================] - 0s - loss: 0.5029 - acc: 0.7607 - val_loss: 0.5612 - val_acc: 0.7559\n",
      "Epoch 148/150\n",
      "514/514 [==============================] - 0s - loss: 0.5011 - acc: 0.7549 - val_loss: 0.5601 - val_acc: 0.7402\n",
      "Epoch 149/150\n",
      "514/514 [==============================] - 0s - loss: 0.4966 - acc: 0.7646 - val_loss: 0.5766 - val_acc: 0.7008\n",
      "Epoch 150/150\n",
      "514/514 [==============================] - 0s - loss: 0.5074 - acc: 0.7510 - val_loss: 0.5638 - val_acc: 0.7323\n"
     ]
    },
    {
     "data": {
      "text/plain": [
       "<keras.callbacks.History at 0x7f94002cccc0>"
      ]
     },
     "execution_count": 8,
     "metadata": {},
     "output_type": "execute_result"
    }
   ],
   "source": [
    "model.fit(X_train, y_train, validation_data=(X_test, y_test), epochs=150, batch_size=10)"
   ]
  },
  {
   "cell_type": "markdown",
   "metadata": {},
   "source": [
    "### Evaluate the model\n",
    "Now that we have trained our model, we can evaluate the performance on the test data prepared earlier. This is done with the `evaluate` function, simply supply the input and target parameters to the function.\n",
    "\n",
    "The value printed out is the accuracy (%)."
   ]
  },
  {
   "cell_type": "code",
   "execution_count": 9,
   "metadata": {},
   "outputs": [
    {
     "name": "stdout",
     "output_type": "stream",
     "text": [
      " 32/768 [>.............................] - ETA: 0s\n",
      "acc: 75.00%\n"
     ]
    }
   ],
   "source": [
    "scores = model.evaluate(X, y)\n",
    "print(\"\\n{0}: {1:.2f}%\".format(model.metrics_names[1], scores[1]*100))"
   ]
  },
  {
   "cell_type": "code",
   "execution_count": null,
   "metadata": {
    "collapsed": true
   },
   "outputs": [],
   "source": []
  }
 ],
 "metadata": {
  "kernelspec": {
   "display_name": "Python 3",
   "language": "python",
   "name": "python3"
  },
  "language_info": {
   "codemirror_mode": {
    "name": "ipython",
    "version": 3
   },
   "file_extension": ".py",
   "mimetype": "text/x-python",
   "name": "python",
   "nbconvert_exporter": "python",
   "pygments_lexer": "ipython3",
   "version": "3.5.2"
  }
 },
 "nbformat": 4,
 "nbformat_minor": 1
}
