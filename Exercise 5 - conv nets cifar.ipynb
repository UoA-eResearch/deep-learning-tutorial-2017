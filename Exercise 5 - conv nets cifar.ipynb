{
 "cells": [
  {
   "cell_type": "markdown",
   "metadata": {
    "collapsed": true
   },
   "source": [
    "## Exercise 5: CIFAR-10\n",
    "The [CIFAR-10 dataset](http://www.cs.toronto.edu/~kriz/cifar.html) consists of 60000 32x32 colour images in 10 classes, with 6000 images per class. There are 50000 training images and 10000 test images. \n",
    "\n",
    "![CIFAR-10](http://karpathy.github.io/assets/cifar_preview.png)\n",
    "\n",
    "The dataset is divided into five training batches and one test batch, each with 10000 images. The test batch contains exactly 1000 randomly-selected images from each class. The training batches contain the remaining images in random order, but some training batches may contain more images from one class than another. Between them, the training batches contain exactly 5000 images from each class. "
   ]
  },
  {
   "cell_type": "markdown",
   "metadata": {},
   "source": [
    "### Task 1: predict the classes from the CIFAR-10 dataset\n",
    "Create a neural network that predicts the classes from the CIFAR-10 dataset. You can base your code on the MNIST neural network code from Exercise 4. A code snippet to start you off is given below.\n",
    "\n",
    "Hints:\n",
    "* The CIFAR-10 images are a different size and have a different number of channels than the MNIST images. The images are already inthe correct shape to feed to your neural network. However, you will need care when specifying the `input_shape`.\n",
    "* 10 epochs and a batch_size of 32 should be ok to start with.\n",
    "* Create a simple neural network model to start with."
   ]
  },
  {
   "cell_type": "code",
   "execution_count": null,
   "metadata": {},
   "outputs": [],
   "source": [
    "import numpy\n",
    "from keras.datasets import mnist\n",
    "from keras.models import Sequential\n",
    "from keras.layers import Dense\n",
    "from keras.layers import Dropout\n",
    "from keras.layers import Flatten\n",
    "from keras.layers.convolutional import Conv2D\n",
    "from keras.layers.convolutional import MaxPooling2D\n",
    "from keras.utils import np_utils\n",
    "from keras import backend as K\n",
    "from keras.datasets import cifar10\n",
    "from uoa_mlaas import use_gpu\n",
    "K.set_image_dim_ordering('th')\n",
    "use_gpu()"
   ]
  },
  {
   "cell_type": "code",
   "execution_count": null,
   "metadata": {
    "collapsed": true
   },
   "outputs": [],
   "source": [
    "seed = 7\n",
    "numpy.random.seed(seed)"
   ]
  },
  {
   "cell_type": "code",
   "execution_count": null,
   "metadata": {},
   "outputs": [],
   "source": [
    "(X_train, y_train), (X_test, y_test) = cifar10.load_data()"
   ]
  },
  {
   "cell_type": "code",
   "execution_count": null,
   "metadata": {
    "collapsed": true
   },
   "outputs": [],
   "source": [
    "print(\"Put your code here!\")"
   ]
  },
  {
   "cell_type": "markdown",
   "metadata": {},
   "source": [
    "### Network topologies\n",
    "Changing the structure of a neural network is one of the biggest methods for improving the accuracy of a neural network. There are two key ways to change your network topology:\n",
    "\n",
    "* Create a deeper network topology\n",
    "* Create a wider network topology\n",
    "\n",
    "Here are some examples of what this means in the context of the network used in the MNIST neural network - exercise 4.\n",
    "\n",
    "#### Baseline\n",
    "This was our baseline model for the iris dataset:\n",
    "```python\n",
    "model = Sequential()\n",
    "model.add(Conv2D(30, (5, 5), input_shape=(1, 28, 28), activation='relu'))\n",
    "model.add(MaxPooling2D(pool_size=(2, 2)))\n",
    "model.add(Dropout(0.2))\n",
    "model.add(Flatten())\n",
    "model.add(Dense(50, activation='relu', kernel_initializer='normal'))\n",
    "model.add(Dense(num_classes, activation='softmax', kernel_initializer='normal'))\n",
    "```\n",
    "\n",
    "#### Deeper\n",
    "In a deeper network topology you simply increate the number of layers:\n",
    "```python\n",
    "model = Sequential()\n",
    "model.add(Conv2D(30, (5, 5), input_shape=(1, 28, 28), activation='relu'))\n",
    "model.add(MaxPooling2D(pool_size=(2, 2)))\n",
    "model.add(Conv2D(30, (5, 5), activation='relu'))\n",
    "model.add(MaxPooling2D(pool_size=(2, 2)))\n",
    "model.add(Dropout(0.2))\n",
    "model.add(Flatten())\n",
    "model.add(Dense(50, activation='relu', kernel_initializer='normal'))\n",
    "model.add(Dense(num_classes, activation='softmax', kernel_initializer='normal'))\n",
    "```\n",
    "\n",
    "#### Wider\n",
    "In a wider network topology you increase the number of neurons in the hidden layers (this example is also deeper):\n",
    "```python\n",
    "model = Sequential()\n",
    "model.add(Conv2D(30, (5, 5), input_shape=(1, 28, 28), activation='relu'))\n",
    "model.add(MaxPooling2D(pool_size=(2, 2)))\n",
    "model.add(Conv2D(64, (5, 5), activation='relu'))\n",
    "model.add(MaxPooling2D(pool_size=(2, 2)))\n",
    "model.add(Dropout(0.2))\n",
    "model.add(Flatten())\n",
    "model.add(Dense(512, activation='relu', kernel_initializer='normal'))\n",
    "model.add(Dense(50, activation='relu', kernel_initializer='normal'))\n",
    "model.add(Dense(num_classes, activation='softmax', kernel_initializer='normal'))\n",
    "```"
   ]
  },
  {
   "cell_type": "markdown",
   "metadata": {},
   "source": [
    "## Task 2: create different network topologies\n",
    "Create a model with a wider/deeper network topology and see how it performs with regards to a simpler model (e.g. what you created in Task 1).\n",
    "\n",
    "Hints:\n",
    "* Think about adding more Conv2D and MaxPooling2D layers, followed by a Flatten layer and couple of Dense layers that decrease in the number of neurons (thousands -> hundreds -> num_classes)"
   ]
  },
  {
   "cell_type": "code",
   "execution_count": null,
   "metadata": {
    "collapsed": true
   },
   "outputs": [],
   "source": []
  }
 ],
 "metadata": {
  "kernelspec": {
   "display_name": "Python 3",
   "language": "python",
   "name": "python3"
  },
  "language_info": {
   "codemirror_mode": {
    "name": "ipython",
    "version": 3
   },
   "file_extension": ".py",
   "mimetype": "text/x-python",
   "name": "python",
   "nbconvert_exporter": "python",
   "pygments_lexer": "ipython3",
   "version": "3.5.2"
  }
 },
 "nbformat": 4,
 "nbformat_minor": 1
}
