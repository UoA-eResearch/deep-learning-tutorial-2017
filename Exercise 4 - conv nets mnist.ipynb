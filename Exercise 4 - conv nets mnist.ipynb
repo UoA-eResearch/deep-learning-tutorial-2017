{
 "cells": [
  {
   "cell_type": "markdown",
   "metadata": {},
   "source": [
    "## Exercise 4: MNIST\n",
    "Lets first look at [this video](https://www.youtube.com/watch?v=p_7GWRup-nQ) to get an understanding of what a convolutional neural network is.\n",
    "\n",
    "In this exercise we will create a convolutional neural network that classifies handwritten digits (0-9) from the [MNIST dataset](http://yann.lecun.com/exdb/mnist/). The MNIST dataset has 60,000 training examples and 10,000 test samples. The digits are normalised for size and centred.\n",
    "\n",
    "![MNIST Digits](https://camo.githubusercontent.com/d440ac2eee1cb3ea33340a2c5f6f15a0878e9275/687474703a2f2f692e7974696d672e636f6d2f76692f3051493378675875422d512f687164656661756c742e6a7067)\n",
    "\n",
    "This is a multi-class classification problem. The main difference between the previous exercises is that we are now processing images rather than a vector of numbers. Also, we are going to use the GPU to speed up computation.\n",
    "\n",
    "The last step of this exercise contains a task."
   ]
  },
  {
   "cell_type": "markdown",
   "metadata": {},
   "source": [
    "### Import dependencies\n",
    "Start by importing the dependencies we will need for the project"
   ]
  },
  {
   "cell_type": "code",
   "execution_count": 2,
   "metadata": {},
   "outputs": [
    {
     "name": "stderr",
     "output_type": "stream",
     "text": [
      "Using TensorFlow backend.\n"
     ]
    }
   ],
   "source": [
    "import numpy\n",
    "from keras.datasets import mnist\n",
    "from keras.models import Sequential\n",
    "from keras.layers import Dense\n",
    "from keras.layers import Dropout\n",
    "from keras.layers import Flatten\n",
    "from keras.layers.convolutional import Conv2D\n",
    "from keras.layers.convolutional import MaxPooling2D\n",
    "from keras.utils import np_utils\n",
    "from keras import backend as K\n",
    "from uoa_mlaas import use_gpu\n",
    "import matplotlib.pyplot as plt\n",
    "import numpy as np\n",
    "K.set_image_dim_ordering('th')\n",
    "#use_gpu()"
   ]
  },
  {
   "cell_type": "code",
   "execution_count": 14,
   "metadata": {},
   "outputs": [],
   "source": [
    "def plot_acc_loss(history):\n",
    "    f, (ax1, ax2) = plt.subplots(2,1, figsize=(10,10))\n",
    "    \n",
    "    # Summarize history of accuracy\n",
    "    ax1.plot(history.history['loss'])\n",
    "    ax1.plot(history.history['val_loss'])\n",
    "    ax1.set_title('model loss')\n",
    "    ax1.legend(['train', 'test'], loc='upper left')\n",
    "    \n",
    "    # Summarize history of accuracy\n",
    "    ax2.plot(history.history['acc'])\n",
    "    ax2.plot(history.history['val_acc'])\n",
    "    ax2.set_title('model accuracy')\n",
    "    ax2.set_xlabel('epoch')\n",
    "    ax2.legend(['train', 'test'], loc='upper left')\n",
    "    \n",
    "    plt.subplots_adjust(hspace=0.5)\n",
    "    plt.show()"
   ]
  },
  {
   "cell_type": "markdown",
   "metadata": {},
   "source": [
    "### Set seed\n",
    "Set a seed value so that when we repeatedly run our code we will get the same result. Using the same seed is important when you want to compare algorithms."
   ]
  },
  {
   "cell_type": "code",
   "execution_count": 3,
   "metadata": {},
   "outputs": [],
   "source": [
    "seed = 7\n",
    "numpy.random.seed(seed)"
   ]
  },
  {
   "cell_type": "markdown",
   "metadata": {},
   "source": [
    "### Import data\n",
    "The MNIST dataset has  60,000 training samples and 10,000 test samples.\n",
    "\n",
    "Keras includes a number of datasets, including MNIST in the `keras.datasets` module. To download the MNIST dataset call `mnist.load_data()`."
   ]
  },
  {
   "cell_type": "code",
   "execution_count": 24,
   "metadata": {},
   "outputs": [],
   "source": [
    "(X_train, y_train), (X_test, y_test) = mnist.load_data()"
   ]
  },
  {
   "cell_type": "markdown",
   "metadata": {},
   "source": [
    "A two dimensional convolutional neural network expects data to be arranged in a four dimensional shape: *number of samples* `x` *channels* `x` *width* `x` *height*.\n",
    "\n",
    "For example, assume we have 10 RGB images, with widths and heights of 20 pixels. This would need to be shaped into 10 samples, each RGB channel would be split into three separate images (1 for red, 1 for green and 1 for blue). Each image would then be a 2D array with 20 rows and columns.\n",
    "\n",
    "The MNIST data has the wrong shape for a 2D convolutional neural network (3 dimensions rather than four):"
   ]
  },
  {
   "cell_type": "code",
   "execution_count": 25,
   "metadata": {},
   "outputs": [
    {
     "name": "stdout",
     "output_type": "stream",
     "text": [
      "(60000, 28, 28)\n"
     ]
    }
   ],
   "source": [
    "print(X_train.shape)"
   ]
  },
  {
   "cell_type": "markdown",
   "metadata": {},
   "source": [
    "The data is missing the dimension for channels, so we need to reshape the data to add it in. The images in the MNIST example are gray scale, so they only have 1 channel.\n",
    "\n",
    "This is done using the numpy `reshape` method."
   ]
  },
  {
   "cell_type": "code",
   "execution_count": 6,
   "metadata": {},
   "outputs": [],
   "source": [
    "X_train = X_train.reshape(X_train.shape[0], 1, 28, 28).astype('float32')\n",
    "X_test = X_test.reshape(X_test.shape[0], 1, 28, 28).astype('float32')"
   ]
  },
  {
   "cell_type": "markdown",
   "metadata": {},
   "source": [
    "Normalize the pixels to the range 0 - 1"
   ]
  },
  {
   "cell_type": "code",
   "execution_count": 7,
   "metadata": {},
   "outputs": [],
   "source": [
    "X_train = X_train / 255\n",
    "X_test = X_test / 255"
   ]
  },
  {
   "cell_type": "markdown",
   "metadata": {},
   "source": [
    "One hot encode the target variables as you did in the Iris classification exercise. The data is already numeric so you do not need to use the LabelEncoder."
   ]
  },
  {
   "cell_type": "code",
   "execution_count": 8,
   "metadata": {},
   "outputs": [
    {
     "name": "stdout",
     "output_type": "stream",
     "text": [
      "Number of classes: 10\n"
     ]
    }
   ],
   "source": [
    "y_train = np_utils.to_categorical(y_train)\n",
    "y_test = np_utils.to_categorical(y_test)\n",
    "num_classes = y_test.shape[1]\n",
    "print(\"Number of classes: {0}\".format(num_classes))"
   ]
  },
  {
   "cell_type": "markdown",
   "metadata": {},
   "source": [
    "### Create the model\n",
    "\n",
    "1. The input layer takes inputs with a dimension 1x28x28\n",
    "2. The first hidden layer is a `Conv2D` layer. We have set it to have 30 filters (the number of output filters) and the size of the kernel to 5x5.\n",
    "3. The `MaxPooling2D` has a kernel size of 2x2. This downsamples the output of the previous layer by selecting the maxiumum value in each kernel. An example is illustrated below: ![Max pooling](https://qph.ec.quoracdn.net/main-qimg-8afedfb2f82f279781bfefa269bc6a90.webp)\n",
    "4. The `Dropout` layer is used to prevent overfitting. It does this by randomly turning off neurons (20% in this case).\n",
    "5. The `Flatten` layer flattens the Conv2D layers into a normal fully connected layer that can be connected to a Dense layer.\n",
    "6. A `Dense` fully connected layer is added with 50 neurons.\n",
    "7. The last layer is the output layer, which has 10 neurons (one for each class/digit)."
   ]
  },
  {
   "cell_type": "code",
   "execution_count": 9,
   "metadata": {},
   "outputs": [],
   "source": [
    "model = Sequential()\n",
    "model.add(Conv2D(30, (5, 5), input_shape=(1, 28, 28), activation='relu'))\n",
    "model.add(MaxPooling2D(pool_size=(2, 2)))\n",
    "model.add(Dropout(0.2))\n",
    "model.add(Flatten())\n",
    "model.add(Dense(50, activation='relu', kernel_initializer='normal'))\n",
    "model.add(Dense(num_classes, activation='softmax', kernel_initializer='normal'))"
   ]
  },
  {
   "cell_type": "markdown",
   "metadata": {},
   "source": [
    "### Compile the model\n",
    "The next step is to compile the model. The loss function (`categorical_crossentropy`) is the same as the Iris multi-class classification exercise."
   ]
  },
  {
   "cell_type": "code",
   "execution_count": 10,
   "metadata": {},
   "outputs": [],
   "source": [
    "model.compile(loss='categorical_crossentropy', optimizer='adam', metrics=['accuracy'])"
   ]
  },
  {
   "cell_type": "markdown",
   "metadata": {},
   "source": [
    "### Fit the model\n",
    "The next step is to train the model. It takes a lot more comuting resources to train convultional neural networks, so note that far less `epochs` are used, but a much larger `batch_size` is used due to a much larger data set."
   ]
  },
  {
   "cell_type": "code",
   "execution_count": 11,
   "metadata": {},
   "outputs": [
    {
     "name": "stdout",
     "output_type": "stream",
     "text": [
      "Train on 60000 samples, validate on 10000 samples\n",
      "Epoch 1/10\n",
      "60000/60000 [==============================] - 37s 621us/step - loss: 0.4057 - acc: 0.8826 - val_loss: 0.1444 - val_acc: 0.9583\n",
      "Epoch 2/10\n",
      "60000/60000 [==============================] - 36s 594us/step - loss: 0.1261 - acc: 0.9635 - val_loss: 0.0738 - val_acc: 0.9767\n",
      "Epoch 3/10\n",
      "60000/60000 [==============================] - 35s 591us/step - loss: 0.0862 - acc: 0.9744 - val_loss: 0.0595 - val_acc: 0.9807\n",
      "Epoch 4/10\n",
      "60000/60000 [==============================] - 35s 589us/step - loss: 0.0678 - acc: 0.9793 - val_loss: 0.0503 - val_acc: 0.9835\n",
      "Epoch 5/10\n",
      "60000/60000 [==============================] - 35s 589us/step - loss: 0.0580 - acc: 0.9821 - val_loss: 0.0427 - val_acc: 0.9864\n",
      "Epoch 6/10\n",
      "60000/60000 [==============================] - 35s 589us/step - loss: 0.0481 - acc: 0.9858 - val_loss: 0.0398 - val_acc: 0.9868\n",
      "Epoch 7/10\n",
      "60000/60000 [==============================] - 36s 594us/step - loss: 0.0435 - acc: 0.9867 - val_loss: 0.0378 - val_acc: 0.9872\n",
      "Epoch 8/10\n",
      "60000/60000 [==============================] - 36s 593us/step - loss: 0.0378 - acc: 0.9883 - val_loss: 0.0343 - val_acc: 0.9881\n",
      "Epoch 9/10\n",
      "60000/60000 [==============================] - 36s 596us/step - loss: 0.0340 - acc: 0.9897 - val_loss: 0.0349 - val_acc: 0.9879\n",
      "Epoch 10/10\n",
      "60000/60000 [==============================] - 36s 594us/step - loss: 0.0301 - acc: 0.9903 - val_loss: 0.0352 - val_acc: 0.9883\n"
     ]
    }
   ],
   "source": [
    "history = model.fit(X_train, y_train, validation_data=(X_test, y_test), epochs=10, batch_size=200)"
   ]
  },
  {
   "cell_type": "code",
   "execution_count": 15,
   "metadata": {},
   "outputs": [
    {
     "data": {
      "image/png": "[encoded data removed]",
      "text/plain": [
       "<Figure size 720x720 with 2 Axes>"
      ]
     },
     "metadata": {
      "needs_background": "light"
     },
     "output_type": "display_data"
    }
   ],
   "source": [
    "plot_acc_loss(history)"
   ]
  },
  {
   "cell_type": "markdown",
   "metadata": {},
   "source": [
    "### Evaluate the model\n",
    "Now that we have trained our model, we can evaluate the performance on the test data."
   ]
  },
  {
   "cell_type": "code",
   "execution_count": 16,
   "metadata": {},
   "outputs": [
    {
     "name": "stdout",
     "output_type": "stream",
     "text": [
      "Accuracy: 99.28%, Error: 0.72%. \n"
     ]
    }
   ],
   "source": [
    "scores = model.evaluate(numpy.concatenate((X_train, X_test), axis=0), numpy.concatenate((y_train, y_test), axis=0), verbose=0)\n",
    "print(\"Accuracy: {0:.2f}%, Error: {1:.2f}%. \".format(scores[1]*100, 100-scores[1]*100))"
   ]
  },
  {
   "cell_type": "markdown",
   "metadata": {},
   "source": [
    "### Network topologies\n",
    "Changing the structure of a neural network is one of the best methods for improving the accuracy of a neural network. There are two key ways to change your network topology:\n",
    "\n",
    "* Create a deeper network topology\n",
    "* Create a wider network topology\n",
    "\n",
    "Here are some examples of what this means in the context of the network used in the Iris neural network - exercise 2.\n",
    "\n",
    "#### Baseline\n",
    "This was our baseline model for the iris dataset:\n",
    "```python\n",
    "model = Sequential()\n",
    "model.add(Dense(4, input_dim=4, activation='relu', kernel_initializer='normal'))\n",
    "model.add(Dense(3, activation='sigmoid', kernel_initializer='normal'))\n",
    "```\n",
    "\n",
    "#### Deeper\n",
    "In a deeper network topology you simply increase the number of layers:\n",
    "```python\n",
    "model = Sequential()\n",
    "model.add(Dense(4, input_dim=4, activation='relu', kernel_initializer='normal'))\n",
    "model.add(Dense(4, activation='relu', kernel_initializer='normal'))\n",
    "model.add(Dense(3, activation='sigmoid', kernel_initializer='normal'))\n",
    "```\n",
    "\n",
    "#### Wider\n",
    "In a wider network topology you increase the number of neurons in the hidden layers:\n",
    "```python\n",
    "model = Sequential()\n",
    "model.add(Dense(8, input_dim=4, activation='relu', kernel_initializer='normal'))\n",
    "model.add(Dense(3, activation='sigmoid', kernel_initializer='normal'))\n",
    "```"
   ]
  },
  {
   "cell_type": "markdown",
   "metadata": {},
   "source": [
    "## Task 2: create different network topologies\n",
    "Create a model with a wider and deeper network topology and see how it performs with regards to the simpler model.\n",
    "\n",
    "Hints:\n",
    "* Think about adding more Conv2D and MaxPooling2D layers, followed by the Flatten layer and Dense layers that decrease in the number of neurons (hundreds -> num_classes)"
   ]
  },
  {
   "cell_type": "code",
   "execution_count": null,
   "metadata": {},
   "outputs": [],
   "source": []
  }
 ],
 "metadata": {
  "kernelspec": {
   "display_name": "Python 3",
   "language": "python",
   "name": "python3"
  },
  "language_info": {
   "codemirror_mode": {
    "name": "ipython",
    "version": 3
   },
   "file_extension": ".py",
   "mimetype": "text/x-python",
   "name": "python",
   "nbconvert_exporter": "python",
   "pygments_lexer": "ipython3",
   "version": "3.6.8"
  }
 },
 "nbformat": 4,
 "nbformat_minor": 1
}
