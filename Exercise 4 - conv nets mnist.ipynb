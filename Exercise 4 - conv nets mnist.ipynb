{
  "nbformat": 4,
  "nbformat_minor": 0,
  "metadata": {
    "colab": {
      "name": "Exercise 4 - conv nets mnist.ipynb",
      "version": "0.3.2",
      "provenance": [],
      "include_colab_link": true
    },
    "language_info": {
      "codemirror_mode": {
        "name": "ipython",
        "version": 3
      },
      "file_extension": ".py",
      "mimetype": "text/x-python",
      "name": "python",
      "nbconvert_exporter": "python",
      "pygments_lexer": "ipython3",
      "version": "3.6.8"
    },
    "kernelspec": {
      "name": "python3",
      "display_name": "Python 3"
    },
    "accelerator": "TPU"
  },
  "cells": [
    {
      "cell_type": "markdown",
      "metadata": {
        "id": "view-in-github",
        "colab_type": "text"
      },
      "source": [
        "<a href=\"https://colab.research.google.com/github/UoA-eResearch/deep-learning-tutorial/blob/master/Exercise%204%20-%20conv%20nets%20mnist.ipynb\" target=\"_parent\"><img src=\"https://colab.research.google.com/assets/colab-badge.svg\" alt=\"Open In Colab\"/></a>"
      ]
    },
    {
      "cell_type": "markdown",
      "metadata": {
        "id": "InMicKsvPay_",
        "colab_type": "text"
      },
      "source": [
        "## Exercise 4: MNIST\n",
        "Lets first look at [this video](https://www.youtube.com/watch?v=p_7GWRup-nQ) to get an understanding of what a convolutional neural network is.\n",
        "\n",
        "In this exercise we will create a convolutional neural network that classifies handwritten digits (0-9) from the [MNIST dataset](http://yann.lecun.com/exdb/mnist/). The MNIST dataset has 60,000 training examples and 10,000 test samples. The digits are normalised for size and centred.\n",
        "\n",
        "![MNIST Digits](https://camo.githubusercontent.com/d440ac2eee1cb3ea33340a2c5f6f15a0878e9275/687474703a2f2f692e7974696d672e636f6d2f76692f3051493378675875422d512f687164656661756c742e6a7067)\n",
        "\n",
        "This is a multi-class classification problem. The main difference between the previous exercises is that we are now processing images rather than a vector of numbers. Also, we are going to use the GPU to speed up computation.\n",
        "\n",
        "The last step of this exercise contains a task."
      ]
    },
    {
      "cell_type": "markdown",
      "metadata": {
        "id": "65_UWdwWPazB",
        "colab_type": "text"
      },
      "source": [
        "### Import dependencies\n",
        "Start by importing the dependencies we will need for the project"
      ]
    },
    {
      "cell_type": "code",
      "metadata": {
        "id": "mT-sc0grPazC",
        "colab_type": "code",
        "colab": {}
      },
      "source": [
        "import numpy\n",
        "from keras.datasets import mnist\n",
        "from keras.models import Sequential\n",
        "from keras.layers import Dense\n",
        "from keras.layers import Dropout\n",
        "from keras.layers import Flatten\n",
        "from keras.layers.convolutional import Conv2D\n",
        "from keras.layers.convolutional import MaxPooling2D\n",
        "from keras.utils import np_utils\n",
        "from keras import backend as K\n",
        "#from uoa_mlaas import use_gpu\n",
        "import matplotlib.pyplot as plt\n",
        "import numpy as np\n",
        "from sklearn import metrics"
      ],
      "execution_count": 0,
      "outputs": []
    },
    {
      "cell_type": "code",
      "metadata": {
        "id": "uT2sRXjCRWep",
        "colab_type": "code",
        "colab": {}
      },
      "source": [
        "if K.image_dim_ordering() != \"tf\":\n",
        "  print(\"Backend image dimension ordering is inappropriate. Change it by typing K.image_dim_ordering('tf')\")"
      ],
      "execution_count": 0,
      "outputs": []
    },
    {
      "cell_type": "code",
      "metadata": {
        "id": "fJ7DRdLfPazH",
        "colab_type": "code",
        "colab": {}
      },
      "source": [
        "def plot_acc_loss(history):\n",
        "    f, (ax1, ax2) = plt.subplots(2,1, figsize=(10,10))\n",
        "    \n",
        "    # Summarize history of accuracy\n",
        "    ax1.plot(history.history['loss'])\n",
        "    ax1.plot(history.history['val_loss'])\n",
        "    ax1.set_title('model loss')\n",
        "    ax1.legend(['train', 'test'], loc='upper left')\n",
        "    \n",
        "    # Summarize history of accuracy\n",
        "    ax2.plot(history.history['acc'])\n",
        "    ax2.plot(history.history['val_acc'])\n",
        "    ax2.set_title('model accuracy')\n",
        "    ax2.set_xlabel('epoch')\n",
        "    ax2.legend(['train', 'test'], loc='upper left')\n",
        "    \n",
        "    plt.subplots_adjust(hspace=0.5)\n",
        "    plt.show()"
      ],
      "execution_count": 0,
      "outputs": []
    },
    {
      "cell_type": "markdown",
      "metadata": {
        "id": "4IaKUu9iPazI",
        "colab_type": "text"
      },
      "source": [
        "### Set seed\n",
        "Set a seed value so that when we repeatedly run our code we will get the same result. Using the same seed is important when you want to compare algorithms."
      ]
    },
    {
      "cell_type": "code",
      "metadata": {
        "id": "aHY6TUaIPazJ",
        "colab_type": "code",
        "colab": {}
      },
      "source": [
        "seed = 7\n",
        "numpy.random.seed(seed)"
      ],
      "execution_count": 0,
      "outputs": []
    },
    {
      "cell_type": "markdown",
      "metadata": {
        "id": "ym1Hpf4yPazL",
        "colab_type": "text"
      },
      "source": [
        "### Import data\n",
        "The MNIST dataset has  60,000 training samples and 10,000 test samples.\n",
        "\n",
        "Keras includes a number of datasets, including MNIST in the `keras.datasets` module. To download the MNIST dataset call `mnist.load_data()`."
      ]
    },
    {
      "cell_type": "code",
      "metadata": {
        "id": "LgaFPEQqPazL",
        "colab_type": "code",
        "colab": {}
      },
      "source": [
        "(X_train, y_train), (X_test, y_test) = mnist.load_data()"
      ],
      "execution_count": 0,
      "outputs": []
    },
    {
      "cell_type": "markdown",
      "metadata": {
        "id": "gpplR83PPazO",
        "colab_type": "text"
      },
      "source": [
        "A two dimensional convolutional neural network expects data to be arranged in a four dimensional shape: *number of samples*  x  *width*  x *height*  x *channels*.\n",
        "\n",
        "For example, assume we have 10 RGB images, with widths and heights of 20 pixels. This would need to be shaped into 10 samples, each RGB channel would be split into three separate images (1 for red, 1 for green and 1 for blue). Each image would then be a 2D array with 20 rows and columns.\n",
        "\n",
        "The MNIST data has the wrong shape for a 2D convolutional neural network (3 dimensions rather than four):"
      ]
    },
    {
      "cell_type": "code",
      "metadata": {
        "id": "ncPzS_pgPazO",
        "colab_type": "code",
        "colab": {
          "base_uri": "https://localhost:8080/",
          "height": 34
        },
        "outputId": "7c88d1d0-9dbc-4965-9bf1-bd95f6018583"
      },
      "source": [
        "print(X_train.shape)"
      ],
      "execution_count": 8,
      "outputs": [
        {
          "output_type": "stream",
          "text": [
            "(60000, 28, 28)\n"
          ],
          "name": "stdout"
        }
      ]
    },
    {
      "cell_type": "markdown",
      "metadata": {
        "id": "UGzJ70itPazR",
        "colab_type": "text"
      },
      "source": [
        "The data is missing the dimension for channels, so we need to reshape the data to add it in. The images in the MNIST example are gray scale, so they only have 1 channel.\n",
        "\n",
        "This is done using the numpy `reshape` method."
      ]
    },
    {
      "cell_type": "code",
      "metadata": {
        "id": "oVUverfbPazR",
        "colab_type": "code",
        "colab": {}
      },
      "source": [
        "X_train = X_train.reshape(X_train.shape[0], 28, 28, 1).astype('float32')\n",
        "X_test = X_test.reshape(X_test.shape[0], 28, 28, 1).astype('float32')"
      ],
      "execution_count": 0,
      "outputs": []
    },
    {
      "cell_type": "code",
      "metadata": {
        "id": "hslyE7ZtQd9U",
        "colab_type": "code",
        "colab": {
          "base_uri": "https://localhost:8080/",
          "height": 34
        },
        "outputId": "3604c2a1-cf36-4707-c996-2a4070f58f9f"
      },
      "source": [
        "X_train.shape"
      ],
      "execution_count": 10,
      "outputs": [
        {
          "output_type": "execute_result",
          "data": {
            "text/plain": [
              "(60000, 28, 28, 1)"
            ]
          },
          "metadata": {
            "tags": []
          },
          "execution_count": 10
        }
      ]
    },
    {
      "cell_type": "markdown",
      "metadata": {
        "id": "EG_Y_bglPazT",
        "colab_type": "text"
      },
      "source": [
        "Normalize the pixels to the range 0 - 1"
      ]
    },
    {
      "cell_type": "code",
      "metadata": {
        "id": "7194uirnPazU",
        "colab_type": "code",
        "colab": {}
      },
      "source": [
        "X_train = X_train / 255\n",
        "X_test = X_test / 255"
      ],
      "execution_count": 0,
      "outputs": []
    },
    {
      "cell_type": "markdown",
      "metadata": {
        "id": "_r-iaVYvPazV",
        "colab_type": "text"
      },
      "source": [
        "One hot encode the target variables as you did in the Iris classification exercise. The data is already numeric so you do not need to use the LabelEncoder."
      ]
    },
    {
      "cell_type": "code",
      "metadata": {
        "id": "KVPnWNm5PazW",
        "colab_type": "code",
        "colab": {
          "base_uri": "https://localhost:8080/",
          "height": 34
        },
        "outputId": "4ba7c8cc-6528-4815-d3b5-784c173eb673"
      },
      "source": [
        "y_train = np_utils.to_categorical(y_train)\n",
        "y_test = np_utils.to_categorical(y_test)\n",
        "num_classes = y_test.shape[1]\n",
        "print(\"Number of classes: {0}\".format(num_classes))"
      ],
      "execution_count": 12,
      "outputs": [
        {
          "output_type": "stream",
          "text": [
            "Number of classes: 10\n"
          ],
          "name": "stdout"
        }
      ]
    },
    {
      "cell_type": "markdown",
      "metadata": {
        "id": "7hs9WqjwPazY",
        "colab_type": "text"
      },
      "source": [
        "### Create the model\n",
        "\n",
        "1. The input layer takes inputs with a dimension 1x28x28\n",
        "2. The first hidden layer is a `Conv2D` layer. We have set it to have 30 filters (the number of output filters) and the size of the kernel to 5x5.\n",
        "3. The `MaxPooling2D` has a kernel size of 2x2. This downsamples the output of the previous layer by selecting the maxiumum value in each kernel. An example is illustrated below: ![Max pooling](https://qph.ec.quoracdn.net/main-qimg-8afedfb2f82f279781bfefa269bc6a90.webp)\n",
        "4. The `Dropout` layer is used to prevent overfitting. It does this by randomly turning off neurons (20% in this case).\n",
        "5. The `Flatten` layer flattens the Conv2D layers into a normal fully connected layer that can be connected to a Dense layer.\n",
        "6. A `Dense` fully connected layer is added with 50 neurons.\n",
        "7. The last layer is the output layer, which has 10 neurons (one for each class/digit)."
      ]
    },
    {
      "cell_type": "code",
      "metadata": {
        "id": "wpYkWScaPazZ",
        "colab_type": "code",
        "colab": {
          "base_uri": "https://localhost:8080/",
          "height": 119
        },
        "outputId": "7efc4dd3-7d64-4a1e-f34b-27265597ecec"
      },
      "source": [
        "model = Sequential()\n",
        "model.add(Conv2D(30, (5, 5), input_shape=(28, 28, 1), activation='relu'))\n",
        "model.add(MaxPooling2D(pool_size=(2, 2)))\n",
        "model.add(Dropout(0.2))\n",
        "model.add(Flatten())\n",
        "model.add(Dense(50, activation='relu', kernel_initializer='normal'))\n",
        "model.add(Dense(num_classes, activation='softmax', kernel_initializer='normal'))"
      ],
      "execution_count": 13,
      "outputs": [
        {
          "output_type": "stream",
          "text": [
            "WARNING:tensorflow:From /usr/local/lib/python3.6/dist-packages/tensorflow/python/framework/op_def_library.py:263: colocate_with (from tensorflow.python.framework.ops) is deprecated and will be removed in a future version.\n",
            "Instructions for updating:\n",
            "Colocations handled automatically by placer.\n",
            "WARNING:tensorflow:From /usr/local/lib/python3.6/dist-packages/keras/backend/tensorflow_backend.py:3445: calling dropout (from tensorflow.python.ops.nn_ops) with keep_prob is deprecated and will be removed in a future version.\n",
            "Instructions for updating:\n",
            "Please use `rate` instead of `keep_prob`. Rate should be set to `rate = 1 - keep_prob`.\n"
          ],
          "name": "stdout"
        }
      ]
    },
    {
      "cell_type": "markdown",
      "metadata": {
        "id": "4Bbm7yaaPazb",
        "colab_type": "text"
      },
      "source": [
        "### Compile the model\n",
        "The next step is to compile the model. The loss function (`categorical_crossentropy`) is the same as the Iris multi-class classification exercise."
      ]
    },
    {
      "cell_type": "code",
      "metadata": {
        "id": "VF64rw4CPazc",
        "colab_type": "code",
        "colab": {}
      },
      "source": [
        "model.compile(loss='categorical_crossentropy', optimizer='adam', metrics=['accuracy'])"
      ],
      "execution_count": 0,
      "outputs": []
    },
    {
      "cell_type": "markdown",
      "metadata": {
        "id": "D_zIbC2DPaze",
        "colab_type": "text"
      },
      "source": [
        "### Fit the model\n",
        "The next step is to train the model. It takes a lot more comuting resources to train convultional neural networks, so note that far less `epochs` are used, but a much larger `batch_size` is used due to a much larger data set."
      ]
    },
    {
      "cell_type": "code",
      "metadata": {
        "id": "gZVKLVd7Pazf",
        "colab_type": "code",
        "colab": {
          "base_uri": "https://localhost:8080/",
          "height": 425
        },
        "outputId": "8e1efcd4-38d0-4410-bf88-a60974e1d01c"
      },
      "source": [
        "history = model.fit(X_train, y_train, validation_data=(X_test, y_test), epochs=10, batch_size=200)"
      ],
      "execution_count": 15,
      "outputs": [
        {
          "output_type": "stream",
          "text": [
            "WARNING:tensorflow:From /usr/local/lib/python3.6/dist-packages/tensorflow/python/ops/math_ops.py:3066: to_int32 (from tensorflow.python.ops.math_ops) is deprecated and will be removed in a future version.\n",
            "Instructions for updating:\n",
            "Use tf.cast instead.\n",
            "Train on 60000 samples, validate on 10000 samples\n",
            "Epoch 1/10\n",
            "60000/60000 [==============================] - 42s 705us/step - loss: 0.4057 - acc: 0.8843 - val_loss: 0.1331 - val_acc: 0.9623\n",
            "Epoch 2/10\n",
            "60000/60000 [==============================] - 42s 694us/step - loss: 0.1200 - acc: 0.9652 - val_loss: 0.0700 - val_acc: 0.9787\n",
            "Epoch 3/10\n",
            "60000/60000 [==============================] - 42s 696us/step - loss: 0.0810 - acc: 0.9764 - val_loss: 0.0536 - val_acc: 0.9822\n",
            "Epoch 4/10\n",
            "60000/60000 [==============================] - 42s 696us/step - loss: 0.0645 - acc: 0.9804 - val_loss: 0.0532 - val_acc: 0.9828\n",
            "Epoch 5/10\n",
            "60000/60000 [==============================] - 42s 696us/step - loss: 0.0544 - acc: 0.9837 - val_loss: 0.0428 - val_acc: 0.9856\n",
            "Epoch 6/10\n",
            "60000/60000 [==============================] - 42s 693us/step - loss: 0.0460 - acc: 0.9863 - val_loss: 0.0380 - val_acc: 0.9869\n",
            "Epoch 7/10\n",
            "60000/60000 [==============================] - 41s 687us/step - loss: 0.0409 - acc: 0.9874 - val_loss: 0.0386 - val_acc: 0.9871\n",
            "Epoch 8/10\n",
            "60000/60000 [==============================] - 41s 690us/step - loss: 0.0351 - acc: 0.9888 - val_loss: 0.0348 - val_acc: 0.9879\n",
            "Epoch 9/10\n",
            "60000/60000 [==============================] - 41s 690us/step - loss: 0.0329 - acc: 0.9901 - val_loss: 0.0351 - val_acc: 0.9873\n",
            "Epoch 10/10\n",
            "60000/60000 [==============================] - 41s 689us/step - loss: 0.0284 - acc: 0.9910 - val_loss: 0.0321 - val_acc: 0.9884\n"
          ],
          "name": "stdout"
        }
      ]
    },
    {
      "cell_type": "code",
      "metadata": {
        "id": "Gj792fukPazj",
        "colab_type": "code",
        "colab": {
          "base_uri": "https://localhost:8080/",
          "height": 621
        },
        "outputId": "7a2230c3-12dd-42e0-9f2b-190854a3b6ff"
      },
      "source": [
        "plot_acc_loss(history)"
      ],
      "execution_count": 16,
      "outputs": [
        {
          "output_type": "display_data",
          "data": {
            "image/png": "[encoded data removed]",
            "text/plain": [
              "<Figure size 720x720 with 2 Axes>"
            ]
          },
          "metadata": {
            "tags": []
          }
        }
      ]
    },
    {
      "cell_type": "markdown",
      "metadata": {
        "id": "MxF4uux0Pazm",
        "colab_type": "text"
      },
      "source": [
        "### Evaluate the model\n",
        "Now that we have trained our model, we can evaluate the performance on the test data."
      ]
    },
    {
      "cell_type": "code",
      "metadata": {
        "id": "mkiqn2WvPazn",
        "colab_type": "code",
        "colab": {
          "base_uri": "https://localhost:8080/",
          "height": 34
        },
        "outputId": "bbaad69b-1c22-417f-8e36-c7101d4ecb86"
      },
      "source": [
        "scores = model.evaluate(numpy.concatenate((X_train, X_test), axis=0), numpy.concatenate((y_train, y_test), axis=0), verbose=0)\n",
        "print(\"Accuracy: {0:.2f}%, Error: {1:.2f}%. \".format(scores[1]*100, 100-scores[1]*100))"
      ],
      "execution_count": 17,
      "outputs": [
        {
          "output_type": "stream",
          "text": [
            "Accuracy: 99.39%, Error: 0.61%. \n"
          ],
          "name": "stdout"
        }
      ]
    },
    {
      "cell_type": "code",
      "metadata": {
        "id": "tjANu_nnT6dU",
        "colab_type": "code",
        "colab": {}
      },
      "source": [
        "y_pred = model.predict_classes(numpy.concatenate((X_train, X_test), axis=0))"
      ],
      "execution_count": 0,
      "outputs": []
    },
    {
      "cell_type": "code",
      "metadata": {
        "id": "_jcvokSwVqbs",
        "colab_type": "code",
        "colab": {}
      },
      "source": [
        "y=np.concatenate((y_train,y_test),axis=0)\n",
        "y=np.asarray([np.where(r==1)[0][0] for r in y])"
      ],
      "execution_count": 0,
      "outputs": []
    },
    {
      "cell_type": "code",
      "metadata": {
        "id": "P2RadD5bVP8B",
        "colab_type": "code",
        "colab": {
          "base_uri": "https://localhost:8080/",
          "height": 187
        },
        "outputId": "e84aabd4-0128-47ed-a6cf-f8df417cfff0"
      },
      "source": [
        "matrix = metrics.confusion_matrix(y, y_pred) # (y_true,y_pred)\n",
        "print(matrix)"
      ],
      "execution_count": 44,
      "outputs": [
        {
          "output_type": "stream",
          "text": [
            "[[6892    2    1    0    0    0    5    1    2    0]\n",
            " [   0 7854    7    0    0    0    0   15    1    0]\n",
            " [   4    9 6947    0    5    0    1   21    2    1]\n",
            " [   2    2   11 7081    0   11    0   15   12    7]\n",
            " [   1    5    0    0 6791    0    3    4    0   20]\n",
            " [   4    2    0    7    1 6280   12    0    3    4]\n",
            " [  12    7    1    0    8    4 6841    0    3    0]\n",
            " [   2    3   10    0    2    0    0 7272    1    3]\n",
            " [  12   10    8    2   14    6    6    7 6749   11]\n",
            " [  12    5    1    7   19    7    0   30   12 6865]]\n"
          ],
          "name": "stdout"
        }
      ]
    },
    {
      "cell_type": "markdown",
      "metadata": {
        "id": "vlZJl-XAPazq",
        "colab_type": "text"
      },
      "source": [
        "### Network topologies\n",
        "Changing the structure of a neural network is one of the best methods for improving the accuracy of a neural network. There are two key ways to change your network topology:\n",
        "\n",
        "* Create a deeper network topology\n",
        "* Create a wider network topology\n",
        "\n",
        "Here are some examples of what this means in the context of the network used in the Iris neural network - exercise 2.\n",
        "\n",
        "#### Baseline\n",
        "This was our baseline model for the iris dataset:\n",
        "```python\n",
        "model = Sequential()\n",
        "model.add(Dense(4, input_dim=4, activation='relu', kernel_initializer='normal'))\n",
        "model.add(Dense(3, activation='sigmoid', kernel_initializer='normal'))\n",
        "```\n",
        "\n",
        "#### Deeper\n",
        "In a deeper network topology you simply increase the number of layers:\n",
        "```python\n",
        "model = Sequential()\n",
        "model.add(Dense(4, input_dim=4, activation='relu', kernel_initializer='normal'))\n",
        "model.add(Dense(4, activation='relu', kernel_initializer='normal'))\n",
        "model.add(Dense(3, activation='sigmoid', kernel_initializer='normal'))\n",
        "```\n",
        "\n",
        "#### Wider\n",
        "In a wider network topology you increase the number of neurons in the hidden layers:\n",
        "```python\n",
        "model = Sequential()\n",
        "model.add(Dense(8, input_dim=4, activation='relu', kernel_initializer='normal'))\n",
        "model.add(Dense(3, activation='sigmoid', kernel_initializer='normal'))\n",
        "```"
      ]
    },
    {
      "cell_type": "markdown",
      "metadata": {
        "id": "4__eh--XPazr",
        "colab_type": "text"
      },
      "source": [
        "## Task 2: create different network topologies\n",
        "Create a model with a wider and deeper network topology and see how it performs with regards to the simpler model.\n",
        "\n",
        "Hints:\n",
        "* Think about adding more Conv2D and MaxPooling2D layers, followed by the Flatten layer and Dense layers that decrease in the number of neurons (hundreds -> num_classes)"
      ]
    },
    {
      "cell_type": "code",
      "metadata": {
        "id": "otqKdAkBPazs",
        "colab_type": "code",
        "colab": {}
      },
      "source": [
        ""
      ],
      "execution_count": 0,
      "outputs": []
    }
  ]
}